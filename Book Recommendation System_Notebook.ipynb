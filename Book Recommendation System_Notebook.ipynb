{
  "nbformat": 4,
  "nbformat_minor": 0,
  "metadata": {
    "colab": {
      "provenance": [],
      "machine_shape": "hm",
      "gpuType": "L4"
    },
    "kernelspec": {
      "name": "python3",
      "display_name": "Python 3"
    },
    "language_info": {
      "name": "python"
    },
    "accelerator": "GPU"
  },
  "cells": [
    {
      "cell_type": "markdown",
      "source": [
        "## Project Overview\n",
        "Pada proyek ini, kita akan membangun sistem rekomendasi buku menggunakan pendekatan Collaborative Filtering. Dataset yang digunakan adalah [Book Recommendation Dataset](https://www.kaggle.com/datasets/arashnic/book-recommendation-dataset?select=Ratings.csv) dari Kaggle yang berisi informasi buku, pengguna, dan rating yang diberikan pengguna terhadap buku.\n",
        "\n",
        "Tujuan utama dari proyek ini adalah merekomendasikan buku berdasarkan riwayat interaksi pengguna sebelumnya.\n",
        "\n",
        "\n",
        "## Business Understanding\n",
        "\n",
        "Kembangkan sebuah sistem rekomendasi buku untuk menjawab permasalahan berikut:\n",
        "\n",
        "- Bagaimana membangun sistem rekomendasi buku yang dipersonalisasi menggunakan teknik collaborative filtering berbasis deep learning?\n",
        "\n",
        "- Bagaimana sistem dapat memprediksi dan merekomendasikan buku lain yang kemungkinan besar disukai pengguna berdasarkan data rating sebelumnya?\n",
        "\n",
        "- Bagaimana sistem ini dapat memberikan nilai tambah bagi pengguna dalam menemukan buku-buku yang belum pernah mereka baca sebelumnya?\n",
        "\n",
        "Untuk menjawab pertanyaan tersebut, sistem rekomendasi ini dikembangkan dengan tujuan atau goals sebagai berikut:\n",
        "\n",
        "- Menghasilkan rekomendasi buku yang dipersonalisasi untuk setiap pengguna berdasarkan pola interaksi dan rating historis.\n",
        "\n",
        "- Membangun model rekomendasi menggunakan pendekatan embedding neural network untuk collaborative filtering.\n",
        "\n",
        "- Menyediakan prediksi rating yang akurat sebagai dasar pengambilan keputusan dalam sistem rekomendasi.\n",
        "\n"
      ],
      "metadata": {
        "id": "alnYP67A_fw8"
      }
    },
    {
      "cell_type": "markdown",
      "source": [
        "# Data Understanding"
      ],
      "metadata": {
        "id": "flFsEN_k_ySK"
      }
    },
    {
      "cell_type": "markdown",
      "source": [
        "Menginstal library penting yang digunakan untuk pemrosesan numerik, machine learning, dan rekomendasi."
      ],
      "metadata": {
        "id": "cKCDH4ikD0wm"
      }
    },
    {
      "cell_type": "code",
      "source": [
        "!pip install numpy==1.23.5\n",
        "!pip install tensorflow==2.12\n",
        "!pip install jax==0.4.6 jaxlib==0.4.6\n",
        "!pip install scikit-surprise"
      ],
      "metadata": {
        "colab": {
          "base_uri": "https://localhost:8080/"
        },
        "id": "Dr3_gY7rjFAR",
        "outputId": "a89a6f11-4094-4cba-fe75-4f5ec5f62b3c"
      },
      "execution_count": 1,
      "outputs": [
        {
          "output_type": "stream",
          "name": "stdout",
          "text": [
            "Requirement already satisfied: numpy==1.23.5 in /usr/local/lib/python3.11/dist-packages (1.23.5)\n",
            "Collecting tensorflow==2.12\n",
            "  Using cached tensorflow-2.12.0-cp311-cp311-manylinux_2_17_x86_64.manylinux2014_x86_64.whl.metadata (3.4 kB)\n",
            "Requirement already satisfied: absl-py>=1.0.0 in /usr/local/lib/python3.11/dist-packages (from tensorflow==2.12) (1.4.0)\n",
            "Requirement already satisfied: astunparse>=1.6.0 in /usr/local/lib/python3.11/dist-packages (from tensorflow==2.12) (1.6.3)\n",
            "Requirement already satisfied: flatbuffers>=2.0 in /usr/local/lib/python3.11/dist-packages (from tensorflow==2.12) (25.2.10)\n",
            "Collecting gast<=0.4.0,>=0.2.1 (from tensorflow==2.12)\n",
            "  Using cached gast-0.4.0-py3-none-any.whl.metadata (1.1 kB)\n",
            "Requirement already satisfied: google-pasta>=0.1.1 in /usr/local/lib/python3.11/dist-packages (from tensorflow==2.12) (0.2.0)\n",
            "Requirement already satisfied: grpcio<2.0,>=1.24.3 in /usr/local/lib/python3.11/dist-packages (from tensorflow==2.12) (1.71.0)\n",
            "Requirement already satisfied: h5py>=2.9.0 in /usr/local/lib/python3.11/dist-packages (from tensorflow==2.12) (3.13.0)\n",
            "Requirement already satisfied: jax>=0.3.15 in /usr/local/lib/python3.11/dist-packages (from tensorflow==2.12) (0.5.2)\n",
            "Collecting keras<2.13,>=2.12.0 (from tensorflow==2.12)\n",
            "  Using cached keras-2.12.0-py2.py3-none-any.whl.metadata (1.4 kB)\n",
            "Requirement already satisfied: libclang>=13.0.0 in /usr/local/lib/python3.11/dist-packages (from tensorflow==2.12) (18.1.1)\n",
            "Requirement already satisfied: numpy<1.24,>=1.22 in /usr/local/lib/python3.11/dist-packages (from tensorflow==2.12) (1.23.5)\n",
            "Requirement already satisfied: opt-einsum>=2.3.2 in /usr/local/lib/python3.11/dist-packages (from tensorflow==2.12) (3.4.0)\n",
            "Requirement already satisfied: packaging in /usr/local/lib/python3.11/dist-packages (from tensorflow==2.12) (24.2)\n",
            "Collecting protobuf!=4.21.0,!=4.21.1,!=4.21.2,!=4.21.3,!=4.21.4,!=4.21.5,<5.0.0dev,>=3.20.3 (from tensorflow==2.12)\n",
            "  Using cached protobuf-4.25.8-cp37-abi3-manylinux2014_x86_64.whl.metadata (541 bytes)\n",
            "Requirement already satisfied: setuptools in /usr/local/lib/python3.11/dist-packages (from tensorflow==2.12) (75.2.0)\n",
            "Requirement already satisfied: six>=1.12.0 in /usr/local/lib/python3.11/dist-packages (from tensorflow==2.12) (1.17.0)\n",
            "Collecting tensorboard<2.13,>=2.12 (from tensorflow==2.12)\n",
            "  Using cached tensorboard-2.12.3-py3-none-any.whl.metadata (1.8 kB)\n",
            "Collecting tensorflow-estimator<2.13,>=2.12.0 (from tensorflow==2.12)\n",
            "  Using cached tensorflow_estimator-2.12.0-py2.py3-none-any.whl.metadata (1.3 kB)\n",
            "Requirement already satisfied: termcolor>=1.1.0 in /usr/local/lib/python3.11/dist-packages (from tensorflow==2.12) (3.1.0)\n",
            "Requirement already satisfied: typing-extensions>=3.6.6 in /usr/local/lib/python3.11/dist-packages (from tensorflow==2.12) (4.13.2)\n",
            "Collecting wrapt<1.15,>=1.11.0 (from tensorflow==2.12)\n",
            "  Using cached wrapt-1.14.1-cp311-cp311-manylinux_2_5_x86_64.manylinux1_x86_64.manylinux_2_17_x86_64.manylinux2014_x86_64.whl.metadata (6.7 kB)\n",
            "Requirement already satisfied: tensorflow-io-gcs-filesystem>=0.23.1 in /usr/local/lib/python3.11/dist-packages (from tensorflow==2.12) (0.37.1)\n",
            "Requirement already satisfied: wheel<1.0,>=0.23.0 in /usr/local/lib/python3.11/dist-packages (from astunparse>=1.6.0->tensorflow==2.12) (0.45.1)\n",
            "Requirement already satisfied: jaxlib<=0.5.2,>=0.5.1 in /usr/local/lib/python3.11/dist-packages (from jax>=0.3.15->tensorflow==2.12) (0.5.1)\n",
            "Requirement already satisfied: ml_dtypes>=0.4.0 in /usr/local/lib/python3.11/dist-packages (from jax>=0.3.15->tensorflow==2.12) (0.4.1)\n",
            "INFO: pip is looking at multiple versions of jax to determine which version is compatible with other requirements. This could take a while.\n",
            "Collecting jax>=0.3.15 (from tensorflow==2.12)\n",
            "  Using cached jax-0.6.1-py3-none-any.whl.metadata (13 kB)\n",
            "Collecting jaxlib<=0.6.1,>=0.6.1 (from jax>=0.3.15->tensorflow==2.12)\n",
            "  Using cached jaxlib-0.6.1-cp311-cp311-manylinux2014_x86_64.whl.metadata (1.2 kB)\n",
            "Collecting ml_dtypes>=0.5.0 (from jax>=0.3.15->tensorflow==2.12)\n",
            "  Using cached ml_dtypes-0.5.1-cp311-cp311-manylinux_2_17_x86_64.manylinux2014_x86_64.whl.metadata (21 kB)\n",
            "Collecting jax>=0.3.15 (from tensorflow==2.12)\n",
            "  Using cached jax-0.6.0-py3-none-any.whl.metadata (22 kB)\n",
            "Collecting jaxlib<=0.6.0,>=0.6.0 (from jax>=0.3.15->tensorflow==2.12)\n",
            "  Using cached jaxlib-0.6.0-cp311-cp311-manylinux2014_x86_64.whl.metadata (1.2 kB)\n",
            "Collecting jax>=0.3.15 (from tensorflow==2.12)\n",
            "  Using cached jax-0.5.3-py3-none-any.whl.metadata (22 kB)\n",
            "Collecting jaxlib<=0.5.3,>=0.5.3 (from jax>=0.3.15->tensorflow==2.12)\n",
            "  Using cached jaxlib-0.5.3-cp311-cp311-manylinux2014_x86_64.whl.metadata (1.2 kB)\n",
            "Collecting jax>=0.3.15 (from tensorflow==2.12)\n",
            "  Using cached jax-0.5.1-py3-none-any.whl.metadata (22 kB)\n",
            "  Using cached jax-0.5.0-py3-none-any.whl.metadata (22 kB)\n",
            "Collecting jaxlib<=0.5.0,>=0.5.0 (from jax>=0.3.15->tensorflow==2.12)\n",
            "  Using cached jaxlib-0.5.0-cp311-cp311-manylinux2014_x86_64.whl.metadata (978 bytes)\n",
            "Collecting jax>=0.3.15 (from tensorflow==2.12)\n",
            "  Using cached jax-0.4.38-py3-none-any.whl.metadata (22 kB)\n",
            "Collecting jaxlib<=0.4.38,>=0.4.38 (from jax>=0.3.15->tensorflow==2.12)\n",
            "  Using cached jaxlib-0.4.38-cp311-cp311-manylinux2014_x86_64.whl.metadata (1.0 kB)\n",
            "Collecting jax>=0.3.15 (from tensorflow==2.12)\n",
            "  Using cached jax-0.4.37-py3-none-any.whl.metadata (22 kB)\n",
            "Collecting jaxlib<=0.4.37,>=0.4.36 (from jax>=0.3.15->tensorflow==2.12)\n",
            "  Using cached jaxlib-0.4.36-cp311-cp311-manylinux2014_x86_64.whl.metadata (1.0 kB)\n",
            "INFO: pip is still looking at multiple versions of jax to determine which version is compatible with other requirements. This could take a while.\n",
            "Collecting jax>=0.3.15 (from tensorflow==2.12)\n",
            "  Using cached jax-0.4.36-py3-none-any.whl.metadata (22 kB)\n",
            "  Using cached jax-0.4.35-py3-none-any.whl.metadata (22 kB)\n",
            "Collecting jaxlib<=0.4.35,>=0.4.34 (from jax>=0.3.15->tensorflow==2.12)\n",
            "  Using cached jaxlib-0.4.35-cp311-cp311-manylinux2014_x86_64.whl.metadata (983 bytes)\n",
            "Collecting jax>=0.3.15 (from tensorflow==2.12)\n",
            "  Using cached jax-0.4.34-py3-none-any.whl.metadata (22 kB)\n",
            "Collecting jaxlib<=0.4.34,>=0.4.34 (from jax>=0.3.15->tensorflow==2.12)\n",
            "  Using cached jaxlib-0.4.34-cp311-cp311-manylinux2014_x86_64.whl.metadata (983 bytes)\n",
            "Collecting jax>=0.3.15 (from tensorflow==2.12)\n",
            "  Using cached jax-0.4.33-py3-none-any.whl.metadata (22 kB)\n",
            "Collecting jaxlib<=0.4.33,>=0.4.33 (from jax>=0.3.15->tensorflow==2.12)\n",
            "  Using cached jaxlib-0.4.33-cp311-cp311-manylinux2014_x86_64.whl.metadata (983 bytes)\n",
            "Collecting jax>=0.3.15 (from tensorflow==2.12)\n",
            "  Using cached jax-0.4.31-py3-none-any.whl.metadata (22 kB)\n",
            "Collecting jaxlib<=0.4.31,>=0.4.30 (from jax>=0.3.15->tensorflow==2.12)\n",
            "  Using cached jaxlib-0.4.31-cp311-cp311-manylinux2014_x86_64.whl.metadata (983 bytes)\n",
            "INFO: This is taking longer than usual. You might need to provide the dependency resolver with stricter constraints to reduce runtime. See https://pip.pypa.io/warnings/backtracking for guidance. If you want to abort this run, press Ctrl + C.\n",
            "Collecting jax>=0.3.15 (from tensorflow==2.12)\n",
            "  Using cached jax-0.4.30-py3-none-any.whl.metadata (22 kB)\n",
            "Collecting jaxlib<=0.4.30,>=0.4.27 (from jax>=0.3.15->tensorflow==2.12)\n",
            "  Using cached jaxlib-0.4.30-cp311-cp311-manylinux2014_x86_64.whl.metadata (1.0 kB)\n",
            "Requirement already satisfied: scipy>=1.9 in /usr/local/lib/python3.11/dist-packages (from jax>=0.3.15->tensorflow==2.12) (1.15.3)\n",
            "Requirement already satisfied: google-auth<3,>=1.6.3 in /usr/local/lib/python3.11/dist-packages (from tensorboard<2.13,>=2.12->tensorflow==2.12) (2.38.0)\n",
            "Collecting google-auth-oauthlib<1.1,>=0.5 (from tensorboard<2.13,>=2.12->tensorflow==2.12)\n",
            "  Using cached google_auth_oauthlib-1.0.0-py2.py3-none-any.whl.metadata (2.7 kB)\n",
            "Requirement already satisfied: markdown>=2.6.8 in /usr/local/lib/python3.11/dist-packages (from tensorboard<2.13,>=2.12->tensorflow==2.12) (3.8)\n",
            "Requirement already satisfied: requests<3,>=2.21.0 in /usr/local/lib/python3.11/dist-packages (from tensorboard<2.13,>=2.12->tensorflow==2.12) (2.32.3)\n",
            "Requirement already satisfied: tensorboard-data-server<0.8.0,>=0.7.0 in /usr/local/lib/python3.11/dist-packages (from tensorboard<2.13,>=2.12->tensorflow==2.12) (0.7.2)\n",
            "Requirement already satisfied: werkzeug>=1.0.1 in /usr/local/lib/python3.11/dist-packages (from tensorboard<2.13,>=2.12->tensorflow==2.12) (3.1.3)\n",
            "Requirement already satisfied: cachetools<6.0,>=2.0.0 in /usr/local/lib/python3.11/dist-packages (from google-auth<3,>=1.6.3->tensorboard<2.13,>=2.12->tensorflow==2.12) (5.5.2)\n",
            "Requirement already satisfied: pyasn1-modules>=0.2.1 in /usr/local/lib/python3.11/dist-packages (from google-auth<3,>=1.6.3->tensorboard<2.13,>=2.12->tensorflow==2.12) (0.4.2)\n",
            "Requirement already satisfied: rsa<5,>=3.1.4 in /usr/local/lib/python3.11/dist-packages (from google-auth<3,>=1.6.3->tensorboard<2.13,>=2.12->tensorflow==2.12) (4.9.1)\n",
            "Requirement already satisfied: requests-oauthlib>=0.7.0 in /usr/local/lib/python3.11/dist-packages (from google-auth-oauthlib<1.1,>=0.5->tensorboard<2.13,>=2.12->tensorflow==2.12) (2.0.0)\n",
            "Requirement already satisfied: charset-normalizer<4,>=2 in /usr/local/lib/python3.11/dist-packages (from requests<3,>=2.21.0->tensorboard<2.13,>=2.12->tensorflow==2.12) (3.4.2)\n",
            "Requirement already satisfied: idna<4,>=2.5 in /usr/local/lib/python3.11/dist-packages (from requests<3,>=2.21.0->tensorboard<2.13,>=2.12->tensorflow==2.12) (3.10)\n",
            "Requirement already satisfied: urllib3<3,>=1.21.1 in /usr/local/lib/python3.11/dist-packages (from requests<3,>=2.21.0->tensorboard<2.13,>=2.12->tensorflow==2.12) (2.4.0)\n",
            "Requirement already satisfied: certifi>=2017.4.17 in /usr/local/lib/python3.11/dist-packages (from requests<3,>=2.21.0->tensorboard<2.13,>=2.12->tensorflow==2.12) (2025.4.26)\n",
            "Requirement already satisfied: MarkupSafe>=2.1.1 in /usr/local/lib/python3.11/dist-packages (from werkzeug>=1.0.1->tensorboard<2.13,>=2.12->tensorflow==2.12) (3.0.2)\n",
            "Requirement already satisfied: pyasn1<0.7.0,>=0.6.1 in /usr/local/lib/python3.11/dist-packages (from pyasn1-modules>=0.2.1->google-auth<3,>=1.6.3->tensorboard<2.13,>=2.12->tensorflow==2.12) (0.6.1)\n",
            "Requirement already satisfied: oauthlib>=3.0.0 in /usr/local/lib/python3.11/dist-packages (from requests-oauthlib>=0.7.0->google-auth-oauthlib<1.1,>=0.5->tensorboard<2.13,>=2.12->tensorflow==2.12) (3.2.2)\n",
            "Downloading tensorflow-2.12.0-cp311-cp311-manylinux_2_17_x86_64.manylinux2014_x86_64.whl (586.0 MB)\n",
            "\u001b[2K   \u001b[90m━━━━━━━━━━━━━━━━━━━━━━━━━━━━━━━━━━━━━━━━\u001b[0m \u001b[32m586.0/586.0 MB\u001b[0m \u001b[31m2.4 MB/s\u001b[0m eta \u001b[36m0:00:00\u001b[0m\n",
            "\u001b[?25hDownloading gast-0.4.0-py3-none-any.whl (9.8 kB)\n",
            "Downloading jax-0.4.30-py3-none-any.whl (2.0 MB)\n",
            "\u001b[2K   \u001b[90m━━━━━━━━━━━━━━━━━━━━━━━━━━━━━━━━━━━━━━━━\u001b[0m \u001b[32m2.0/2.0 MB\u001b[0m \u001b[31m90.4 MB/s\u001b[0m eta \u001b[36m0:00:00\u001b[0m\n",
            "\u001b[?25hDownloading keras-2.12.0-py2.py3-none-any.whl (1.7 MB)\n",
            "\u001b[2K   \u001b[90m━━━━━━━━━━━━━━━━━━━━━━━━━━━━━━━━━━━━━━━━\u001b[0m \u001b[32m1.7/1.7 MB\u001b[0m \u001b[31m81.6 MB/s\u001b[0m eta \u001b[36m0:00:00\u001b[0m\n",
            "\u001b[?25hDownloading protobuf-4.25.8-cp37-abi3-manylinux2014_x86_64.whl (294 kB)\n",
            "\u001b[2K   \u001b[90m━━━━━━━━━━━━━━━━━━━━━━━━━━━━━━━━━━━━━━━━\u001b[0m \u001b[32m294.9/294.9 kB\u001b[0m \u001b[31m25.5 MB/s\u001b[0m eta \u001b[36m0:00:00\u001b[0m\n",
            "\u001b[?25hDownloading tensorboard-2.12.3-py3-none-any.whl (5.6 MB)\n",
            "\u001b[2K   \u001b[90m━━━━━━━━━━━━━━━━━━━━━━━━━━━━━━━━━━━━━━━━\u001b[0m \u001b[32m5.6/5.6 MB\u001b[0m \u001b[31m106.4 MB/s\u001b[0m eta \u001b[36m0:00:00\u001b[0m\n",
            "\u001b[?25hDownloading tensorflow_estimator-2.12.0-py2.py3-none-any.whl (440 kB)\n",
            "\u001b[2K   \u001b[90m━━━━━━━━━━━━━━━━━━━━━━━━━━━━━━━━━━━━━━━━\u001b[0m \u001b[32m440.7/440.7 kB\u001b[0m \u001b[31m37.2 MB/s\u001b[0m eta \u001b[36m0:00:00\u001b[0m\n",
            "\u001b[?25hDownloading wrapt-1.14.1-cp311-cp311-manylinux_2_5_x86_64.manylinux1_x86_64.manylinux_2_17_x86_64.manylinux2014_x86_64.whl (78 kB)\n",
            "\u001b[2K   \u001b[90m━━━━━━━━━━━━━━━━━━━━━━━━━━━━━━━━━━━━━━━━\u001b[0m \u001b[32m78.4/78.4 kB\u001b[0m \u001b[31m7.9 MB/s\u001b[0m eta \u001b[36m0:00:00\u001b[0m\n",
            "\u001b[?25hDownloading google_auth_oauthlib-1.0.0-py2.py3-none-any.whl (18 kB)\n",
            "Downloading jaxlib-0.4.30-cp311-cp311-manylinux2014_x86_64.whl (79.6 MB)\n",
            "\u001b[2K   \u001b[90m━━━━━━━━━━━━━━━━━━━━━━━━━━━━━━━━━━━━━━━━\u001b[0m \u001b[32m79.6/79.6 MB\u001b[0m \u001b[31m30.5 MB/s\u001b[0m eta \u001b[36m0:00:00\u001b[0m\n",
            "\u001b[?25hInstalling collected packages: wrapt, tensorflow-estimator, protobuf, keras, gast, jaxlib, jax, google-auth-oauthlib, tensorboard, tensorflow\n",
            "  Attempting uninstall: wrapt\n",
            "    Found existing installation: wrapt 1.17.2\n",
            "    Uninstalling wrapt-1.17.2:\n",
            "      Successfully uninstalled wrapt-1.17.2\n",
            "  Attempting uninstall: protobuf\n",
            "    Found existing installation: protobuf 5.29.4\n",
            "    Uninstalling protobuf-5.29.4:\n",
            "      Successfully uninstalled protobuf-5.29.4\n",
            "  Attempting uninstall: keras\n",
            "    Found existing installation: keras 3.8.0\n",
            "    Uninstalling keras-3.8.0:\n",
            "      Successfully uninstalled keras-3.8.0\n",
            "  Attempting uninstall: gast\n",
            "    Found existing installation: gast 0.6.0\n",
            "    Uninstalling gast-0.6.0:\n",
            "      Successfully uninstalled gast-0.6.0\n",
            "  Attempting uninstall: jaxlib\n",
            "    Found existing installation: jaxlib 0.5.1\n",
            "    Uninstalling jaxlib-0.5.1:\n",
            "      Successfully uninstalled jaxlib-0.5.1\n",
            "  Attempting uninstall: jax\n",
            "    Found existing installation: jax 0.5.2\n",
            "    Uninstalling jax-0.5.2:\n",
            "      Successfully uninstalled jax-0.5.2\n",
            "  Attempting uninstall: google-auth-oauthlib\n",
            "    Found existing installation: google-auth-oauthlib 1.2.2\n",
            "    Uninstalling google-auth-oauthlib-1.2.2:\n",
            "      Successfully uninstalled google-auth-oauthlib-1.2.2\n",
            "  Attempting uninstall: tensorboard\n",
            "    Found existing installation: tensorboard 2.18.0\n",
            "    Uninstalling tensorboard-2.18.0:\n",
            "      Successfully uninstalled tensorboard-2.18.0\n",
            "  Attempting uninstall: tensorflow\n",
            "    Found existing installation: tensorflow 2.18.0\n",
            "    Uninstalling tensorflow-2.18.0:\n",
            "      Successfully uninstalled tensorflow-2.18.0\n",
            "\u001b[31mERROR: pip's dependency resolver does not currently take into account all the packages that are installed. This behaviour is the source of the following dependency conflicts.\n",
            "tensorflow-decision-forests 1.11.0 requires tensorflow==2.18.0, but you have tensorflow 2.12.0 which is incompatible.\n",
            "flax 0.10.6 requires jax>=0.5.1, but you have jax 0.4.30 which is incompatible.\n",
            "ydf 0.12.0 requires protobuf<6.0.0,>=5.29.1, but you have protobuf 4.25.8 which is incompatible.\n",
            "bigframes 2.4.0 requires numpy>=1.24.0, but you have numpy 1.23.5 which is incompatible.\n",
            "grpcio-status 1.71.0 requires protobuf<6.0dev,>=5.26.1, but you have protobuf 4.25.8 which is incompatible.\n",
            "orbax-checkpoint 0.11.13 requires jax>=0.5.0, but you have jax 0.4.30 which is incompatible.\n",
            "tensorflow-text 2.18.1 requires tensorflow<2.19,>=2.18.0, but you have tensorflow 2.12.0 which is incompatible.\n",
            "tf-keras 2.18.0 requires tensorflow<2.19,>=2.18, but you have tensorflow 2.12.0 which is incompatible.\n",
            "chex 0.1.89 requires numpy>=1.24.1, but you have numpy 1.23.5 which is incompatible.\u001b[0m\u001b[31m\n",
            "\u001b[0mSuccessfully installed gast-0.4.0 google-auth-oauthlib-1.0.0 jax-0.4.30 jaxlib-0.4.30 keras-2.12.0 protobuf-4.25.8 tensorboard-2.12.3 tensorflow-2.12.0 tensorflow-estimator-2.12.0 wrapt-1.14.1\n",
            "Collecting jax==0.4.6\n",
            "  Downloading jax-0.4.6.tar.gz (1.2 MB)\n",
            "\u001b[2K     \u001b[90m━━━━━━━━━━━━━━━━━━━━━━━━━━━━━━━━━━━━━━━━\u001b[0m \u001b[32m1.2/1.2 MB\u001b[0m \u001b[31m21.4 MB/s\u001b[0m eta \u001b[36m0:00:00\u001b[0m\n",
            "\u001b[?25h  Preparing metadata (setup.py) ... \u001b[?25l\u001b[?25hdone\n",
            "Collecting jaxlib==0.4.6\n",
            "  Downloading jaxlib-0.4.6-cp311-cp311-manylinux2014_x86_64.whl.metadata (963 bytes)\n",
            "Requirement already satisfied: numpy>=1.20 in /usr/local/lib/python3.11/dist-packages (from jax==0.4.6) (1.23.5)\n",
            "Requirement already satisfied: opt_einsum in /usr/local/lib/python3.11/dist-packages (from jax==0.4.6) (3.4.0)\n",
            "Requirement already satisfied: scipy>=1.5 in /usr/local/lib/python3.11/dist-packages (from jax==0.4.6) (1.15.3)\n",
            "Downloading jaxlib-0.4.6-cp311-cp311-manylinux2014_x86_64.whl (62.0 MB)\n",
            "\u001b[2K   \u001b[90m━━━━━━━━━━━━━━━━━━━━━━━━━━━━━━━━━━━━━━━━\u001b[0m \u001b[32m62.0/62.0 MB\u001b[0m \u001b[31m16.7 MB/s\u001b[0m eta \u001b[36m0:00:00\u001b[0m\n",
            "\u001b[?25hBuilding wheels for collected packages: jax\n",
            "  Building wheel for jax (setup.py) ... \u001b[?25l\u001b[?25hdone\n",
            "  Created wheel for jax: filename=jax-0.4.6-py3-none-any.whl size=1432708 sha256=85d6b5ccb66718c60975cfef538df2c998715ebffb4d8c9a2b379235e82fccfc\n",
            "  Stored in directory: /root/.cache/pip/wheels/6a/28/40/ff10677acfec585e1716fbe856cf037a1f219f132df3b39b5a\n",
            "Successfully built jax\n",
            "Installing collected packages: jaxlib, jax\n",
            "  Attempting uninstall: jaxlib\n",
            "    Found existing installation: jaxlib 0.4.30\n",
            "    Uninstalling jaxlib-0.4.30:\n",
            "      Successfully uninstalled jaxlib-0.4.30\n",
            "  Attempting uninstall: jax\n",
            "    Found existing installation: jax 0.4.30\n",
            "    Uninstalling jax-0.4.30:\n",
            "      Successfully uninstalled jax-0.4.30\n",
            "\u001b[31mERROR: pip's dependency resolver does not currently take into account all the packages that are installed. This behaviour is the source of the following dependency conflicts.\n",
            "optax 0.2.4 requires jax>=0.4.27, but you have jax 0.4.6 which is incompatible.\n",
            "optax 0.2.4 requires jaxlib>=0.4.27, but you have jaxlib 0.4.6 which is incompatible.\n",
            "tensorflow-decision-forests 1.11.0 requires tensorflow==2.18.0, but you have tensorflow 2.12.0 which is incompatible.\n",
            "flax 0.10.6 requires jax>=0.5.1, but you have jax 0.4.6 which is incompatible.\n",
            "orbax-checkpoint 0.11.13 requires jax>=0.5.0, but you have jax 0.4.6 which is incompatible.\n",
            "tensorflow-text 2.18.1 requires tensorflow<2.19,>=2.18.0, but you have tensorflow 2.12.0 which is incompatible.\n",
            "tf-keras 2.18.0 requires tensorflow<2.19,>=2.18, but you have tensorflow 2.12.0 which is incompatible.\n",
            "chex 0.1.89 requires jax>=0.4.27, but you have jax 0.4.6 which is incompatible.\n",
            "chex 0.1.89 requires jaxlib>=0.4.27, but you have jaxlib 0.4.6 which is incompatible.\n",
            "chex 0.1.89 requires numpy>=1.24.1, but you have numpy 1.23.5 which is incompatible.\u001b[0m\u001b[31m\n",
            "\u001b[0mSuccessfully installed jax-0.4.6 jaxlib-0.4.6\n",
            "Collecting scikit-surprise\n",
            "  Downloading scikit_surprise-1.1.4.tar.gz (154 kB)\n",
            "\u001b[2K     \u001b[90m━━━━━━━━━━━━━━━━━━━━━━━━━━━━━━━━━━━━━━━\u001b[0m \u001b[32m154.4/154.4 kB\u001b[0m \u001b[31m4.7 MB/s\u001b[0m eta \u001b[36m0:00:00\u001b[0m\n",
            "\u001b[?25h  Installing build dependencies ... \u001b[?25l\u001b[?25hdone\n",
            "  Getting requirements to build wheel ... \u001b[?25l\u001b[?25hdone\n",
            "  Preparing metadata (pyproject.toml) ... \u001b[?25l\u001b[?25hdone\n",
            "Requirement already satisfied: joblib>=1.2.0 in /usr/local/lib/python3.11/dist-packages (from scikit-surprise) (1.5.0)\n",
            "Requirement already satisfied: numpy>=1.19.5 in /usr/local/lib/python3.11/dist-packages (from scikit-surprise) (1.23.5)\n",
            "Requirement already satisfied: scipy>=1.6.0 in /usr/local/lib/python3.11/dist-packages (from scikit-surprise) (1.15.3)\n",
            "Building wheels for collected packages: scikit-surprise\n",
            "  Building wheel for scikit-surprise (pyproject.toml) ... \u001b[?25l\u001b[?25hdone\n",
            "  Created wheel for scikit-surprise: filename=scikit_surprise-1.1.4-cp311-cp311-linux_x86_64.whl size=2463317 sha256=213eb4189600a3180128c022ae254eb47b7ef5a1b159a8bb2c195a44dc801bd7\n",
            "  Stored in directory: /root/.cache/pip/wheels/2a/8f/6e/7e2899163e2d85d8266daab4aa1cdabec7a6c56f83c015b5af\n",
            "Successfully built scikit-surprise\n",
            "Installing collected packages: scikit-surprise\n",
            "Successfully installed scikit-surprise-1.1.4\n"
          ]
        }
      ]
    },
    {
      "cell_type": "markdown",
      "source": [
        "Menginstal CLI untuk mengakses dataset dari Kaggle."
      ],
      "metadata": {
        "id": "9UrTha0zD4Hz"
      }
    },
    {
      "cell_type": "code",
      "source": [
        "!pip install -q kaggle"
      ],
      "metadata": {
        "id": "5zXCDs9IDTHA"
      },
      "execution_count": 2,
      "outputs": []
    },
    {
      "cell_type": "markdown",
      "source": [
        "Mengunggah token API Kaggle untuk mengakses data,  serta mengunduh dan mengekstrak dataset dari Kaggle."
      ],
      "metadata": {
        "id": "PsZsoVZtAFFa"
      }
    },
    {
      "cell_type": "code",
      "source": [
        "from google.colab import files\n",
        "\n",
        "# Mengupload file kaggle.json dari komputer lokal\n",
        "files.upload()\n",
        "\n",
        "import os\n",
        "import shutil\n",
        "\n",
        "os.makedirs('/root/.kaggle', exist_ok=True)\n",
        "\n",
        "shutil.copy('kaggle.json', '/root/.kaggle/kaggle.json')\n",
        "\n",
        "os.chmod('/root/.kaggle/kaggle.json', 600)\n",
        "\n",
        "# Download dataset Book Recommendation\n",
        "!kaggle datasets download -d arashnic/book-recommendation-dataset\n",
        "\n",
        "# Ekstrak file zip\n",
        "import zipfile\n",
        "\n",
        "with zipfile.ZipFile(\"book-recommendation-dataset.zip\", 'r') as zip_ref:\n",
        "    zip_ref.extractall(\"book_data\")"
      ],
      "metadata": {
        "colab": {
          "base_uri": "https://localhost:8080/",
          "height": 160
        },
        "id": "R7zaxZ0sACZS",
        "outputId": "146433f2-62a3-4eb9-bcff-7221965ca937"
      },
      "execution_count": 3,
      "outputs": [
        {
          "output_type": "display_data",
          "data": {
            "text/plain": [
              "<IPython.core.display.HTML object>"
            ],
            "text/html": [
              "\n",
              "     <input type=\"file\" id=\"files-c56ae946-493d-467a-b495-b5eafc2c01c9\" name=\"files[]\" multiple disabled\n",
              "        style=\"border:none\" />\n",
              "     <output id=\"result-c56ae946-493d-467a-b495-b5eafc2c01c9\">\n",
              "      Upload widget is only available when the cell has been executed in the\n",
              "      current browser session. Please rerun this cell to enable.\n",
              "      </output>\n",
              "      <script>// Copyright 2017 Google LLC\n",
              "//\n",
              "// Licensed under the Apache License, Version 2.0 (the \"License\");\n",
              "// you may not use this file except in compliance with the License.\n",
              "// You may obtain a copy of the License at\n",
              "//\n",
              "//      http://www.apache.org/licenses/LICENSE-2.0\n",
              "//\n",
              "// Unless required by applicable law or agreed to in writing, software\n",
              "// distributed under the License is distributed on an \"AS IS\" BASIS,\n",
              "// WITHOUT WARRANTIES OR CONDITIONS OF ANY KIND, either express or implied.\n",
              "// See the License for the specific language governing permissions and\n",
              "// limitations under the License.\n",
              "\n",
              "/**\n",
              " * @fileoverview Helpers for google.colab Python module.\n",
              " */\n",
              "(function(scope) {\n",
              "function span(text, styleAttributes = {}) {\n",
              "  const element = document.createElement('span');\n",
              "  element.textContent = text;\n",
              "  for (const key of Object.keys(styleAttributes)) {\n",
              "    element.style[key] = styleAttributes[key];\n",
              "  }\n",
              "  return element;\n",
              "}\n",
              "\n",
              "// Max number of bytes which will be uploaded at a time.\n",
              "const MAX_PAYLOAD_SIZE = 100 * 1024;\n",
              "\n",
              "function _uploadFiles(inputId, outputId) {\n",
              "  const steps = uploadFilesStep(inputId, outputId);\n",
              "  const outputElement = document.getElementById(outputId);\n",
              "  // Cache steps on the outputElement to make it available for the next call\n",
              "  // to uploadFilesContinue from Python.\n",
              "  outputElement.steps = steps;\n",
              "\n",
              "  return _uploadFilesContinue(outputId);\n",
              "}\n",
              "\n",
              "// This is roughly an async generator (not supported in the browser yet),\n",
              "// where there are multiple asynchronous steps and the Python side is going\n",
              "// to poll for completion of each step.\n",
              "// This uses a Promise to block the python side on completion of each step,\n",
              "// then passes the result of the previous step as the input to the next step.\n",
              "function _uploadFilesContinue(outputId) {\n",
              "  const outputElement = document.getElementById(outputId);\n",
              "  const steps = outputElement.steps;\n",
              "\n",
              "  const next = steps.next(outputElement.lastPromiseValue);\n",
              "  return Promise.resolve(next.value.promise).then((value) => {\n",
              "    // Cache the last promise value to make it available to the next\n",
              "    // step of the generator.\n",
              "    outputElement.lastPromiseValue = value;\n",
              "    return next.value.response;\n",
              "  });\n",
              "}\n",
              "\n",
              "/**\n",
              " * Generator function which is called between each async step of the upload\n",
              " * process.\n",
              " * @param {string} inputId Element ID of the input file picker element.\n",
              " * @param {string} outputId Element ID of the output display.\n",
              " * @return {!Iterable<!Object>} Iterable of next steps.\n",
              " */\n",
              "function* uploadFilesStep(inputId, outputId) {\n",
              "  const inputElement = document.getElementById(inputId);\n",
              "  inputElement.disabled = false;\n",
              "\n",
              "  const outputElement = document.getElementById(outputId);\n",
              "  outputElement.innerHTML = '';\n",
              "\n",
              "  const pickedPromise = new Promise((resolve) => {\n",
              "    inputElement.addEventListener('change', (e) => {\n",
              "      resolve(e.target.files);\n",
              "    });\n",
              "  });\n",
              "\n",
              "  const cancel = document.createElement('button');\n",
              "  inputElement.parentElement.appendChild(cancel);\n",
              "  cancel.textContent = 'Cancel upload';\n",
              "  const cancelPromise = new Promise((resolve) => {\n",
              "    cancel.onclick = () => {\n",
              "      resolve(null);\n",
              "    };\n",
              "  });\n",
              "\n",
              "  // Wait for the user to pick the files.\n",
              "  const files = yield {\n",
              "    promise: Promise.race([pickedPromise, cancelPromise]),\n",
              "    response: {\n",
              "      action: 'starting',\n",
              "    }\n",
              "  };\n",
              "\n",
              "  cancel.remove();\n",
              "\n",
              "  // Disable the input element since further picks are not allowed.\n",
              "  inputElement.disabled = true;\n",
              "\n",
              "  if (!files) {\n",
              "    return {\n",
              "      response: {\n",
              "        action: 'complete',\n",
              "      }\n",
              "    };\n",
              "  }\n",
              "\n",
              "  for (const file of files) {\n",
              "    const li = document.createElement('li');\n",
              "    li.append(span(file.name, {fontWeight: 'bold'}));\n",
              "    li.append(span(\n",
              "        `(${file.type || 'n/a'}) - ${file.size} bytes, ` +\n",
              "        `last modified: ${\n",
              "            file.lastModifiedDate ? file.lastModifiedDate.toLocaleDateString() :\n",
              "                                    'n/a'} - `));\n",
              "    const percent = span('0% done');\n",
              "    li.appendChild(percent);\n",
              "\n",
              "    outputElement.appendChild(li);\n",
              "\n",
              "    const fileDataPromise = new Promise((resolve) => {\n",
              "      const reader = new FileReader();\n",
              "      reader.onload = (e) => {\n",
              "        resolve(e.target.result);\n",
              "      };\n",
              "      reader.readAsArrayBuffer(file);\n",
              "    });\n",
              "    // Wait for the data to be ready.\n",
              "    let fileData = yield {\n",
              "      promise: fileDataPromise,\n",
              "      response: {\n",
              "        action: 'continue',\n",
              "      }\n",
              "    };\n",
              "\n",
              "    // Use a chunked sending to avoid message size limits. See b/62115660.\n",
              "    let position = 0;\n",
              "    do {\n",
              "      const length = Math.min(fileData.byteLength - position, MAX_PAYLOAD_SIZE);\n",
              "      const chunk = new Uint8Array(fileData, position, length);\n",
              "      position += length;\n",
              "\n",
              "      const base64 = btoa(String.fromCharCode.apply(null, chunk));\n",
              "      yield {\n",
              "        response: {\n",
              "          action: 'append',\n",
              "          file: file.name,\n",
              "          data: base64,\n",
              "        },\n",
              "      };\n",
              "\n",
              "      let percentDone = fileData.byteLength === 0 ?\n",
              "          100 :\n",
              "          Math.round((position / fileData.byteLength) * 100);\n",
              "      percent.textContent = `${percentDone}% done`;\n",
              "\n",
              "    } while (position < fileData.byteLength);\n",
              "  }\n",
              "\n",
              "  // All done.\n",
              "  yield {\n",
              "    response: {\n",
              "      action: 'complete',\n",
              "    }\n",
              "  };\n",
              "}\n",
              "\n",
              "scope.google = scope.google || {};\n",
              "scope.google.colab = scope.google.colab || {};\n",
              "scope.google.colab._files = {\n",
              "  _uploadFiles,\n",
              "  _uploadFilesContinue,\n",
              "};\n",
              "})(self);\n",
              "</script> "
            ]
          },
          "metadata": {}
        },
        {
          "output_type": "stream",
          "name": "stdout",
          "text": [
            "Saving kaggle.json to kaggle.json\n",
            "Dataset URL: https://www.kaggle.com/datasets/arashnic/book-recommendation-dataset\n",
            "License(s): CC0-1.0\n",
            "Downloading book-recommendation-dataset.zip to /content\n",
            "  0% 0.00/24.3M [00:00<?, ?B/s]\n",
            "100% 24.3M/24.3M [00:00<00:00, 1.14GB/s]\n"
          ]
        }
      ]
    },
    {
      "cell_type": "markdown",
      "source": [
        "Membaca ketiga file CSV utama ke DataFrame."
      ],
      "metadata": {
        "id": "NZWGzXnREYG5"
      }
    },
    {
      "cell_type": "code",
      "source": [
        "# Load data\n",
        "import pandas as pd\n",
        "\n",
        "books = pd.read_csv('book_data/Books.csv', encoding='latin-1')\n",
        "users = pd.read_csv('book_data/Users.csv', encoding='latin-1')\n",
        "ratings = pd.read_csv('book_data/Ratings.csv', encoding='latin-1')"
      ],
      "metadata": {
        "colab": {
          "base_uri": "https://localhost:8080/"
        },
        "id": "nIcvQTNHEYLl",
        "outputId": "d40d9923-1e45-4397-f66c-21e31b141846"
      },
      "execution_count": 4,
      "outputs": [
        {
          "output_type": "stream",
          "name": "stderr",
          "text": [
            "<ipython-input-4-484ff97601e5>:4: DtypeWarning: Columns (3) have mixed types. Specify dtype option on import or set low_memory=False.\n",
            "  books = pd.read_csv('book_data/Books.csv', encoding='latin-1')\n"
          ]
        }
      ]
    },
    {
      "cell_type": "markdown",
      "source": [
        "Menampilkan informasi struktur DataFrame."
      ],
      "metadata": {
        "id": "gBdGXVBmEcTa"
      }
    },
    {
      "cell_type": "code",
      "source": [
        "# Tampilkan info dasar\n",
        "print(\"Books\")\n",
        "print(books.info())\n",
        "print(\"\\nUsers\")\n",
        "print(users.info())\n",
        "print(\"\\nRatings\")\n",
        "print(ratings.info())"
      ],
      "metadata": {
        "colab": {
          "base_uri": "https://localhost:8080/"
        },
        "id": "uxj1pDaoEb-g",
        "outputId": "6db88f1a-cb3a-4970-e2c3-fbde335eb9de"
      },
      "execution_count": 5,
      "outputs": [
        {
          "output_type": "stream",
          "name": "stdout",
          "text": [
            "Books\n",
            "<class 'pandas.core.frame.DataFrame'>\n",
            "RangeIndex: 271360 entries, 0 to 271359\n",
            "Data columns (total 8 columns):\n",
            " #   Column               Non-Null Count   Dtype \n",
            "---  ------               --------------   ----- \n",
            " 0   ISBN                 271360 non-null  object\n",
            " 1   Book-Title           271360 non-null  object\n",
            " 2   Book-Author          271358 non-null  object\n",
            " 3   Year-Of-Publication  271360 non-null  object\n",
            " 4   Publisher            271358 non-null  object\n",
            " 5   Image-URL-S          271360 non-null  object\n",
            " 6   Image-URL-M          271360 non-null  object\n",
            " 7   Image-URL-L          271357 non-null  object\n",
            "dtypes: object(8)\n",
            "memory usage: 16.6+ MB\n",
            "None\n",
            "\n",
            "Users\n",
            "<class 'pandas.core.frame.DataFrame'>\n",
            "RangeIndex: 278858 entries, 0 to 278857\n",
            "Data columns (total 3 columns):\n",
            " #   Column    Non-Null Count   Dtype  \n",
            "---  ------    --------------   -----  \n",
            " 0   User-ID   278858 non-null  int64  \n",
            " 1   Location  278858 non-null  object \n",
            " 2   Age       168096 non-null  float64\n",
            "dtypes: float64(1), int64(1), object(1)\n",
            "memory usage: 6.4+ MB\n",
            "None\n",
            "\n",
            "Ratings\n",
            "<class 'pandas.core.frame.DataFrame'>\n",
            "RangeIndex: 1149780 entries, 0 to 1149779\n",
            "Data columns (total 3 columns):\n",
            " #   Column       Non-Null Count    Dtype \n",
            "---  ------       --------------    ----- \n",
            " 0   User-ID      1149780 non-null  int64 \n",
            " 1   ISBN         1149780 non-null  object\n",
            " 2   Book-Rating  1149780 non-null  int64 \n",
            "dtypes: int64(2), object(1)\n",
            "memory usage: 26.3+ MB\n",
            "None\n"
          ]
        }
      ]
    },
    {
      "cell_type": "markdown",
      "source": [
        "Menyajikan informasi mengenai ukuran dataset."
      ],
      "metadata": {
        "id": "xjVcavFTEgN4"
      }
    },
    {
      "cell_type": "code",
      "source": [
        "print('Jumlah data buku: ', len(books.ISBN.unique()))\n",
        "print('Jumlah data user: ', len(users['User-ID'].unique()))\n",
        "print('Jumlah data rating: ', len(ratings))\n",
        "print('Jumlah rating eksplisit (rating > 0): ', len(ratings[ratings['Book-Rating'] > 0]))\n",
        "print('Jumlah rating implisit (rating == 0): ', len(ratings[ratings['Book-Rating'] == 0]))"
      ],
      "metadata": {
        "colab": {
          "base_uri": "https://localhost:8080/"
        },
        "id": "GIUDCpr4GW58",
        "outputId": "401a856f-b335-4513-dfe1-a5ee6f13d8d9"
      },
      "execution_count": 6,
      "outputs": [
        {
          "output_type": "stream",
          "name": "stdout",
          "text": [
            "Jumlah data buku:  271360\n",
            "Jumlah data user:  278858\n",
            "Jumlah data rating:  1149780\n",
            "Jumlah rating eksplisit (rating > 0):  433671\n",
            "Jumlah rating implisit (rating == 0):  716109\n"
          ]
        }
      ]
    },
    {
      "cell_type": "markdown",
      "source": [
        "# Univariate Exploratory Data Analysis"
      ],
      "metadata": {
        "id": "ufuRikamAK8-"
      }
    },
    {
      "cell_type": "markdown",
      "source": [
        "Variabel-variabel pada RBook Recommendation Dataset dataset adalah sebagai berikut:\n",
        "- Books : merupakan data mengenai buku yang mencakup ISBN, judul buku, penulis, tahun terbit, dan nama penerbit.\n",
        "\n",
        "- Users : merupakan data mengenai pengguna yang terdiri dari User-ID, lokasi (negara/kota), dan usia pengguna.\n",
        "\n",
        "- Ratings : merupakan data interaksi antara pengguna dan buku, berupa rating yang diberikan pengguna terhadap suatu buku dengan skala 0–10."
      ],
      "metadata": {
        "id": "QEb9XoSiAMw_"
      }
    },
    {
      "cell_type": "markdown",
      "source": [
        "## Books"
      ],
      "metadata": {
        "id": "LAJ0iB-kAUtE"
      }
    },
    {
      "cell_type": "markdown",
      "source": [
        "Menampilkan struktur dan ringkasan dataframe books, seperti jumlah entri, tipe data kolom, jumlah non-null"
      ],
      "metadata": {
        "id": "p5GGdE4ZIheT"
      }
    },
    {
      "cell_type": "code",
      "source": [
        "print(books.info())"
      ],
      "metadata": {
        "colab": {
          "base_uri": "https://localhost:8080/"
        },
        "id": "8aG457DhAHvO",
        "outputId": "ef4f154e-d5cc-4f2f-9942-dca98cf151f8"
      },
      "execution_count": 7,
      "outputs": [
        {
          "output_type": "stream",
          "name": "stdout",
          "text": [
            "<class 'pandas.core.frame.DataFrame'>\n",
            "RangeIndex: 271360 entries, 0 to 271359\n",
            "Data columns (total 8 columns):\n",
            " #   Column               Non-Null Count   Dtype \n",
            "---  ------               --------------   ----- \n",
            " 0   ISBN                 271360 non-null  object\n",
            " 1   Book-Title           271360 non-null  object\n",
            " 2   Book-Author          271358 non-null  object\n",
            " 3   Year-Of-Publication  271360 non-null  object\n",
            " 4   Publisher            271358 non-null  object\n",
            " 5   Image-URL-S          271360 non-null  object\n",
            " 6   Image-URL-M          271360 non-null  object\n",
            " 7   Image-URL-L          271357 non-null  object\n",
            "dtypes: object(8)\n",
            "memory usage: 16.6+ MB\n",
            "None\n"
          ]
        }
      ]
    },
    {
      "cell_type": "markdown",
      "source": [
        "Memuat tiga dataset (Books.csv, Users.csv, Ratings.csv) dan:\n",
        "\n",
        "- Mengonversi kolom Year-Of-Publication menjadi numerik (menghindari string seperti 'DK Pub').\n",
        "\n",
        "- Menampilkan informasi ringkas (info()) dari ketiga dataset untuk verifikasi awal bentuk dan isi."
      ],
      "metadata": {
        "id": "TX6gPfqVIt0b"
      }
    },
    {
      "cell_type": "code",
      "source": [
        "# Load data\n",
        "import pandas as pd\n",
        "\n",
        "books = pd.read_csv('book_data/Books.csv', encoding='latin-1')\n",
        "users = pd.read_csv('book_data/Users.csv', encoding='latin-1')\n",
        "ratings = pd.read_csv('book_data/Ratings.csv', encoding='latin-1')\n",
        "\n",
        "# Bersihkan Year-Of-Publication\n",
        "books['Year-Of-Publication'] = pd.to_numeric(books['Year-Of-Publication'], errors='coerce')\n",
        "\n",
        "# Tampilkan info dasar\n",
        "print(\"Books\")\n",
        "print(books.info())\n",
        "print(\"\\nUsers\")\n",
        "print(users.info())\n",
        "print(\"\\nRatings\")\n",
        "print(ratings.info())"
      ],
      "metadata": {
        "colab": {
          "base_uri": "https://localhost:8080/"
        },
        "id": "M0HFOcggGly5",
        "outputId": "0ea8b479-e37d-42bc-9241-89d08c550a7f"
      },
      "execution_count": 8,
      "outputs": [
        {
          "output_type": "stream",
          "name": "stderr",
          "text": [
            "<ipython-input-8-6adb442d595b>:4: DtypeWarning: Columns (3) have mixed types. Specify dtype option on import or set low_memory=False.\n",
            "  books = pd.read_csv('book_data/Books.csv', encoding='latin-1')\n"
          ]
        },
        {
          "output_type": "stream",
          "name": "stdout",
          "text": [
            "Books\n",
            "<class 'pandas.core.frame.DataFrame'>\n",
            "RangeIndex: 271360 entries, 0 to 271359\n",
            "Data columns (total 8 columns):\n",
            " #   Column               Non-Null Count   Dtype  \n",
            "---  ------               --------------   -----  \n",
            " 0   ISBN                 271360 non-null  object \n",
            " 1   Book-Title           271360 non-null  object \n",
            " 2   Book-Author          271358 non-null  object \n",
            " 3   Year-Of-Publication  271357 non-null  float64\n",
            " 4   Publisher            271358 non-null  object \n",
            " 5   Image-URL-S          271360 non-null  object \n",
            " 6   Image-URL-M          271360 non-null  object \n",
            " 7   Image-URL-L          271357 non-null  object \n",
            "dtypes: float64(1), object(7)\n",
            "memory usage: 16.6+ MB\n",
            "None\n",
            "\n",
            "Users\n",
            "<class 'pandas.core.frame.DataFrame'>\n",
            "RangeIndex: 278858 entries, 0 to 278857\n",
            "Data columns (total 3 columns):\n",
            " #   Column    Non-Null Count   Dtype  \n",
            "---  ------    --------------   -----  \n",
            " 0   User-ID   278858 non-null  int64  \n",
            " 1   Location  278858 non-null  object \n",
            " 2   Age       168096 non-null  float64\n",
            "dtypes: float64(1), int64(1), object(1)\n",
            "memory usage: 6.4+ MB\n",
            "None\n",
            "\n",
            "Ratings\n",
            "<class 'pandas.core.frame.DataFrame'>\n",
            "RangeIndex: 1149780 entries, 0 to 1149779\n",
            "Data columns (total 3 columns):\n",
            " #   Column       Non-Null Count    Dtype \n",
            "---  ------       --------------    ----- \n",
            " 0   User-ID      1149780 non-null  int64 \n",
            " 1   ISBN         1149780 non-null  object\n",
            " 2   Book-Rating  1149780 non-null  int64 \n",
            "dtypes: int64(2), object(1)\n",
            "memory usage: 26.3+ MB\n",
            "None\n"
          ]
        }
      ]
    },
    {
      "cell_type": "markdown",
      "source": [
        "## Users"
      ],
      "metadata": {
        "id": "CUB5eq0eAZ9A"
      }
    },
    {
      "cell_type": "markdown",
      "source": [
        "Menampilkan info struktur dataframe users."
      ],
      "metadata": {
        "id": "iL6S6ea-Iz9Q"
      }
    },
    {
      "cell_type": "code",
      "source": [
        "print(users.info())"
      ],
      "metadata": {
        "colab": {
          "base_uri": "https://localhost:8080/"
        },
        "id": "f9te4ybpAYNW",
        "outputId": "c5506aea-5c0b-4dc6-e992-47a0ac320259"
      },
      "execution_count": 9,
      "outputs": [
        {
          "output_type": "stream",
          "name": "stdout",
          "text": [
            "<class 'pandas.core.frame.DataFrame'>\n",
            "RangeIndex: 278858 entries, 0 to 278857\n",
            "Data columns (total 3 columns):\n",
            " #   Column    Non-Null Count   Dtype  \n",
            "---  ------    --------------   -----  \n",
            " 0   User-ID   278858 non-null  int64  \n",
            " 1   Location  278858 non-null  object \n",
            " 2   Age       168096 non-null  float64\n",
            "dtypes: float64(1), int64(1), object(1)\n",
            "memory usage: 6.4+ MB\n",
            "None\n"
          ]
        }
      ]
    },
    {
      "cell_type": "markdown",
      "source": [
        "Menampilkan jumlah user unik dan statistik ringkasan kolom Age (rata-rata, min, max, dsb)."
      ],
      "metadata": {
        "id": "_N9fV4-rE-uH"
      }
    },
    {
      "cell_type": "code",
      "source": [
        "print('Jumlah user unik: ', len(users['User-ID'].unique()))\n",
        "print('Usia pengguna - Statistik deskriptif:')\n",
        "print(users['Age'].describe())"
      ],
      "metadata": {
        "colab": {
          "base_uri": "https://localhost:8080/"
        },
        "id": "tVcXzgOKAbv7",
        "outputId": "18996881-68e1-4d05-a495-c82a7903dc02"
      },
      "execution_count": 10,
      "outputs": [
        {
          "output_type": "stream",
          "name": "stdout",
          "text": [
            "Jumlah user unik:  278858\n",
            "Usia pengguna - Statistik deskriptif:\n",
            "count    168096.000000\n",
            "mean         34.751434\n",
            "std          14.428097\n",
            "min           0.000000\n",
            "25%          24.000000\n",
            "50%          32.000000\n",
            "75%          44.000000\n",
            "max         244.000000\n",
            "Name: Age, dtype: float64\n"
          ]
        }
      ]
    },
    {
      "cell_type": "markdown",
      "source": [
        "## Ratings"
      ],
      "metadata": {
        "id": "0TbiMf1sAex4"
      }
    },
    {
      "cell_type": "markdown",
      "source": [
        "Menampilkan struktur dataframe ratings."
      ],
      "metadata": {
        "id": "drrSm5UaJK38"
      }
    },
    {
      "cell_type": "code",
      "source": [
        "print(ratings.info())"
      ],
      "metadata": {
        "colab": {
          "base_uri": "https://localhost:8080/"
        },
        "id": "jXypVjbOAdbG",
        "outputId": "50532657-8477-44d4-db2c-e7e6d7dd7dd3"
      },
      "execution_count": 11,
      "outputs": [
        {
          "output_type": "stream",
          "name": "stdout",
          "text": [
            "<class 'pandas.core.frame.DataFrame'>\n",
            "RangeIndex: 1149780 entries, 0 to 1149779\n",
            "Data columns (total 3 columns):\n",
            " #   Column       Non-Null Count    Dtype \n",
            "---  ------       --------------    ----- \n",
            " 0   User-ID      1149780 non-null  int64 \n",
            " 1   ISBN         1149780 non-null  object\n",
            " 2   Book-Rating  1149780 non-null  int64 \n",
            "dtypes: int64(2), object(1)\n",
            "memory usage: 26.3+ MB\n",
            "None\n"
          ]
        }
      ]
    },
    {
      "cell_type": "markdown",
      "source": [
        "Menampilkan 5 baris pertama data rating untuk melihat format data."
      ],
      "metadata": {
        "id": "crjYzaA2JMyW"
      }
    },
    {
      "cell_type": "code",
      "source": [
        "print('Contoh rating:')\n",
        "print(ratings.head())"
      ],
      "metadata": {
        "colab": {
          "base_uri": "https://localhost:8080/"
        },
        "id": "qFKW6pOOAfbw",
        "outputId": "b2736072-c5bc-41aa-ad8e-ae0c373dff15"
      },
      "execution_count": 12,
      "outputs": [
        {
          "output_type": "stream",
          "name": "stdout",
          "text": [
            "Contoh rating:\n",
            "   User-ID        ISBN  Book-Rating\n",
            "0   276725  034545104X            0\n",
            "1   276726  0155061224            5\n",
            "2   276727  0446520802            0\n",
            "3   276729  052165615X            3\n",
            "4   276729  0521795028            6\n"
          ]
        }
      ]
    },
    {
      "cell_type": "markdown",
      "source": [
        "Menampilkan jumlah user dan ISBN unik dan menampilkan distribusi frekuensi dari nilai Book-Rating."
      ],
      "metadata": {
        "id": "HO_LrTYiJPKT"
      }
    },
    {
      "cell_type": "code",
      "source": [
        "print('Jumlah user unik: ', len(ratings['User-ID'].unique()))\n",
        "print('Jumlah ISBN unik: ', len(ratings['ISBN'].unique()))\n",
        "print('Distribusi rating:')\n",
        "print(ratings['Book-Rating'].value_counts().sort_index())"
      ],
      "metadata": {
        "colab": {
          "base_uri": "https://localhost:8080/"
        },
        "id": "lZEuabIAG0eg",
        "outputId": "2c4e2fa2-1756-4c04-c4ee-6c199a08c88d"
      },
      "execution_count": 13,
      "outputs": [
        {
          "output_type": "stream",
          "name": "stdout",
          "text": [
            "Jumlah user unik:  105283\n",
            "Jumlah ISBN unik:  340556\n",
            "Distribusi rating:\n",
            "Book-Rating\n",
            "0     716109\n",
            "1       1770\n",
            "2       2759\n",
            "3       5996\n",
            "4       8904\n",
            "5      50974\n",
            "6      36924\n",
            "7      76457\n",
            "8     103736\n",
            "9      67541\n",
            "10     78610\n",
            "Name: count, dtype: int64\n"
          ]
        }
      ]
    },
    {
      "cell_type": "markdown",
      "source": [
        "Visualisasi dari:\n",
        "- Distribusi Rating Buku\n",
        "- Top 20 User dengan Jumlah Rating Terbanyak\n",
        "- Top 20 Buku yang Paling Banyak Dirating\n",
        "- Distribusi Usia Pengguna"
      ],
      "metadata": {
        "id": "0fq23BmS8KHf"
      }
    },
    {
      "cell_type": "code",
      "source": [
        "import matplotlib.pyplot as plt\n",
        "import seaborn as sns\n",
        "\n",
        "# Distribusi Book Rating\n",
        "plt.figure(figsize=(8, 4))\n",
        "sns.histplot(ratings['Book-Rating'], bins=10, kde=False)\n",
        "plt.title('Distribusi Rating Buku')\n",
        "plt.xlabel('Book Rating')\n",
        "plt.ylabel('Jumlah')\n",
        "plt.show()\n",
        "\n",
        "# Jumlah interaksi per user (Top 20)\n",
        "user_counts = ratings['User-ID'].value_counts().head(20)\n",
        "plt.figure(figsize=(10, 4))\n",
        "sns.barplot(x=user_counts.index.astype(str), y=user_counts.values, palette='Blues_d')\n",
        "plt.title('Top 20 User dengan Jumlah Rating Terbanyak')\n",
        "plt.xlabel('User-ID')\n",
        "plt.ylabel('Jumlah Rating')\n",
        "plt.xticks(rotation=45)\n",
        "plt.show()\n",
        "\n",
        "# Jumlah interaksi per buku (Top 20)\n",
        "book_counts = ratings['ISBN'].value_counts().head(20)\n",
        "plt.figure(figsize=(10, 4))\n",
        "sns.barplot(x=book_counts.index, y=book_counts.values, palette='Greens_d')\n",
        "plt.title('Top 20 Buku yang Paling Banyak Dirating')\n",
        "plt.xlabel('ISBN')\n",
        "plt.ylabel('Jumlah Rating')\n",
        "plt.xticks(rotation=45)\n",
        "plt.show()\n",
        "\n",
        "# Distribusi usia pengguna\n",
        "plt.figure(figsize=(8, 4))\n",
        "sns.histplot(users['Age'], bins=30, kde=True)\n",
        "plt.title('Distribusi Usia Pengguna')\n",
        "plt.xlabel('Usia')\n",
        "plt.ylabel('Jumlah')\n",
        "plt.show()"
      ],
      "metadata": {
        "colab": {
          "base_uri": "https://localhost:8080/",
          "height": 1000
        },
        "id": "FIJOtsy655Mn",
        "outputId": "735c2651-25f7-403a-fadd-fd42e2519b03"
      },
      "execution_count": 14,
      "outputs": [
        {
          "output_type": "display_data",
          "data": {
            "text/plain": [
              "<Figure size 800x400 with 1 Axes>"
            ],
            "image/png": "[encoded data removed]"
          },
          "metadata": {}
        },
        {
          "output_type": "stream",
          "name": "stderr",
          "text": [
            "<ipython-input-14-0f423f9a9130>:15: FutureWarning: \n",
            "\n",
            "Passing `palette` without assigning `hue` is deprecated and will be removed in v0.14.0. Assign the `x` variable to `hue` and set `legend=False` for the same effect.\n",
            "\n",
            "  sns.barplot(x=user_counts.index.astype(str), y=user_counts.values, palette='Blues_d')\n"
          ]
        },
        {
          "output_type": "display_data",
          "data": {
            "text/plain": [
              "<Figure size 1000x400 with 1 Axes>"
            ],
            "image/png": "[encoded data removed]"
          },
          "metadata": {}
        },
        {
          "output_type": "stream",
          "name": "stderr",
          "text": [
            "<ipython-input-14-0f423f9a9130>:25: FutureWarning: \n",
            "\n",
            "Passing `palette` without assigning `hue` is deprecated and will be removed in v0.14.0. Assign the `x` variable to `hue` and set `legend=False` for the same effect.\n",
            "\n",
            "  sns.barplot(x=book_counts.index, y=book_counts.values, palette='Greens_d')\n"
          ]
        },
        {
          "output_type": "display_data",
          "data": {
            "text/plain": [
              "<Figure size 1000x400 with 1 Axes>"
            ],
            "image/png": "[encoded data removed]"
          },
          "metadata": {}
        },
        {
          "output_type": "display_data",
          "data": {
            "text/plain": [
              "<Figure size 800x400 with 1 Axes>"
            ],
            "image/png": "[encoded data removed]"
          },
          "metadata": {}
        }
      ]
    },
    {
      "cell_type": "markdown",
      "source": [
        "# Data Preprocessing"
      ],
      "metadata": {
        "id": "YjdyBcQFA-RE"
      }
    },
    {
      "cell_type": "markdown",
      "source": [
        "## Cleaning Data Awal"
      ],
      "metadata": {
        "id": "4L8V7O2ABATx"
      }
    },
    {
      "cell_type": "markdown",
      "source": [
        "Pada tahap ini dilakukan inisialisasi proses pembersihan data, seperti mengonversi kolom numerik dan memfilter data tidak valid sebagai langkah awal.\n",
        "Proses pembersihan lanjutan secara menyeluruh akan dijelaskan dan diterapkan pada tahap Data Preparation."
      ],
      "metadata": {
        "id": "lpxvuZdVJgwo"
      }
    },
    {
      "cell_type": "code",
      "source": [
        "# Contoh awal cleaning data\n",
        "\n",
        "# Konversi kolom 'Year-Of-Publication' menjadi numerik\n",
        "books['Year-Of-Publication'] = pd.to_numeric(books['Year-Of-Publication'], errors='coerce')\n",
        "\n",
        "# Filter user dengan usia antara 5 hingga 100 tahun\n",
        "users = users[(users['Age'] >= 5) & (users['Age'] <= 100)]\n",
        "\n",
        "# Tampilkan missing value sebagai acuan pembersihan awal\n",
        "print(\"Missing value pada books:\")\n",
        "print(books.isnull().sum())"
      ],
      "metadata": {
        "id": "7ecCI-W2BDGY",
        "colab": {
          "base_uri": "https://localhost:8080/"
        },
        "outputId": "fd51404c-6f7c-48b3-efea-ff206a3a4d33"
      },
      "execution_count": 15,
      "outputs": [
        {
          "output_type": "stream",
          "name": "stdout",
          "text": [
            "Missing value pada books:\n",
            "ISBN                   0\n",
            "Book-Title             0\n",
            "Book-Author            2\n",
            "Year-Of-Publication    3\n",
            "Publisher              2\n",
            "Image-URL-S            0\n",
            "Image-URL-M            0\n",
            "Image-URL-L            3\n",
            "dtype: int64\n"
          ]
        }
      ]
    },
    {
      "cell_type": "markdown",
      "source": [
        "# Data Preparation"
      ],
      "metadata": {
        "id": "FoQBbYErBcvn"
      }
    },
    {
      "cell_type": "markdown",
      "source": [
        "## Mengecek & Mengatasi Missing Value"
      ],
      "metadata": {
        "id": "QTVUqmqOBf5y"
      }
    },
    {
      "cell_type": "markdown",
      "source": [
        "Menampilkan jumlah nilai kosong (NaN) pada setiap kolom di ketiga dataframe (books, users, ratings) setelah proses filter awal."
      ],
      "metadata": {
        "id": "LRmKqdkyJswM"
      }
    },
    {
      "cell_type": "code",
      "source": [
        "# Cek missing value pada dataset\n",
        "print(\"Missing value pada books:\")\n",
        "print(books.isnull().sum())\n",
        "print(\"\\nMissing value pada users:\")\n",
        "print(users.isnull().sum())\n",
        "print(\"\\nMissing value pada ratings:\")\n",
        "print(ratings.isnull().sum())"
      ],
      "metadata": {
        "colab": {
          "base_uri": "https://localhost:8080/"
        },
        "id": "-W7KnslDBaQJ",
        "outputId": "a6d326e7-3f76-4bd7-b374-807bfeff06f7"
      },
      "execution_count": 16,
      "outputs": [
        {
          "output_type": "stream",
          "name": "stdout",
          "text": [
            "Missing value pada books:\n",
            "ISBN                   0\n",
            "Book-Title             0\n",
            "Book-Author            2\n",
            "Year-Of-Publication    3\n",
            "Publisher              2\n",
            "Image-URL-S            0\n",
            "Image-URL-M            0\n",
            "Image-URL-L            3\n",
            "dtype: int64\n",
            "\n",
            "Missing value pada users:\n",
            "User-ID     0\n",
            "Location    0\n",
            "Age         0\n",
            "dtype: int64\n",
            "\n",
            "Missing value pada ratings:\n",
            "User-ID        0\n",
            "ISBN           0\n",
            "Book-Rating    0\n",
            "dtype: int64\n"
          ]
        }
      ]
    },
    {
      "cell_type": "markdown",
      "source": [
        "Menghapus missing values dan membuat salinan data bersih (books_clean, users_clean, ratings_clean). Menampilkan kembali jumlah missing values setelah dibersihkan."
      ],
      "metadata": {
        "id": "IqR88jn8KnyE"
      }
    },
    {
      "cell_type": "code",
      "source": [
        "# Hapus missing value dari semua dataframe\n",
        "books_clean = books.dropna()\n",
        "users_clean = users.dropna()\n",
        "ratings_clean = ratings.dropna()\n",
        "\n",
        "# Cek ulang\n",
        "print(\"Setelah dibersihkan:\")\n",
        "print(\"Books:\", books_clean.isnull().sum().sum())\n",
        "print(\"Users:\", users_clean.isnull().sum().sum())\n",
        "print(\"Ratings:\", ratings_clean.isnull().sum().sum())"
      ],
      "metadata": {
        "colab": {
          "base_uri": "https://localhost:8080/"
        },
        "id": "EyfQTO3CBhJ3",
        "outputId": "e7c0998c-e8ac-479f-e4dc-84bac02577ae"
      },
      "execution_count": 17,
      "outputs": [
        {
          "output_type": "stream",
          "name": "stdout",
          "text": [
            "Setelah dibersihkan:\n",
            "Books: 0\n",
            "Users: 0\n",
            "Ratings: 0\n"
          ]
        }
      ]
    },
    {
      "cell_type": "markdown",
      "source": [
        "Memastikan kembali bahwa data benar-benar bebas dari nilai kosong."
      ],
      "metadata": {
        "id": "EpAurh2YKe2T"
      }
    },
    {
      "cell_type": "code",
      "source": [
        "# Mengecek kembali missing value pada dataset yang sudah dibersihkan\n",
        "print(\"Missing value pada books_clean:\")\n",
        "print(books_clean.isnull().sum())\n",
        "\n",
        "print(\"\\nMissing value pada users_clean:\")\n",
        "print(users_clean.isnull().sum())\n",
        "\n",
        "print(\"\\nMissing value pada ratings_clean:\")\n",
        "print(ratings_clean.isnull().sum())"
      ],
      "metadata": {
        "colab": {
          "base_uri": "https://localhost:8080/"
        },
        "id": "44l7Zu6aBiVq",
        "outputId": "bd1e2054-3c03-4e0f-bb3a-c29c8ed54bea"
      },
      "execution_count": 18,
      "outputs": [
        {
          "output_type": "stream",
          "name": "stdout",
          "text": [
            "Missing value pada books_clean:\n",
            "ISBN                   0\n",
            "Book-Title             0\n",
            "Book-Author            0\n",
            "Year-Of-Publication    0\n",
            "Publisher              0\n",
            "Image-URL-S            0\n",
            "Image-URL-M            0\n",
            "Image-URL-L            0\n",
            "dtype: int64\n",
            "\n",
            "Missing value pada users_clean:\n",
            "User-ID     0\n",
            "Location    0\n",
            "Age         0\n",
            "dtype: int64\n",
            "\n",
            "Missing value pada ratings_clean:\n",
            "User-ID        0\n",
            "ISBN           0\n",
            "Book-Rating    0\n",
            "dtype: int64\n"
          ]
        }
      ]
    },
    {
      "cell_type": "markdown",
      "source": [
        "## Membersihkan & Memfilter Data yang Tidak Valid"
      ],
      "metadata": {
        "id": "IUWUIADvBmyt"
      }
    },
    {
      "cell_type": "markdown",
      "source": [
        "Bersihkan Ulang Tahun & Usia\n",
        "- Validasi ulang kolom Year-Of-Publication agar berada dalam range wajar (1800–2025).\n",
        "\n",
        "- Memfilter ulang kolom Age agar hanya dalam 5–100 tahun."
      ],
      "metadata": {
        "id": "8W0l1o42KCdz"
      }
    },
    {
      "cell_type": "code",
      "source": [
        "# Bersihkan kolom tahun publikasi\n",
        "books_clean['Year-Of-Publication'] = pd.to_numeric(books_clean['Year-Of-Publication'], errors='coerce')\n",
        "books_clean = books_clean[(books_clean['Year-Of-Publication'] >= 1800) & (books_clean['Year-Of-Publication'] <= 2025)]\n",
        "\n",
        "# Filter usia user yang valid\n",
        "users_clean = users_clean[(users_clean['Age'] >= 5) & (users_clean['Age'] <= 100)]"
      ],
      "metadata": {
        "id": "yAmxYAK-Bj3b",
        "colab": {
          "base_uri": "https://localhost:8080/"
        },
        "outputId": "f28defde-774a-453d-8c76-df3e62bd1e24"
      },
      "execution_count": 19,
      "outputs": [
        {
          "output_type": "stream",
          "name": "stderr",
          "text": [
            "<ipython-input-19-15472961d627>:2: SettingWithCopyWarning: \n",
            "A value is trying to be set on a copy of a slice from a DataFrame.\n",
            "Try using .loc[row_indexer,col_indexer] = value instead\n",
            "\n",
            "See the caveats in the documentation: https://pandas.pydata.org/pandas-docs/stable/user_guide/indexing.html#returning-a-view-versus-a-copy\n",
            "  books_clean['Year-Of-Publication'] = pd.to_numeric(books_clean['Year-Of-Publication'], errors='coerce')\n"
          ]
        }
      ]
    },
    {
      "cell_type": "markdown",
      "source": [
        "## Menyaring Data Aktif (User & Buku yang Sering Digunakan)"
      ],
      "metadata": {
        "id": "4tOVneEaJKGY"
      }
    },
    {
      "cell_type": "markdown",
      "source": [
        "Filter ulang dataset bersih agar hanya menyertakan user dan buku dengan ≥10 interaksi (agar model nanti lebih andal)."
      ],
      "metadata": {
        "id": "SZNzZ4OmKX-w"
      }
    },
    {
      "cell_type": "code",
      "source": [
        "# Hanya ambil user dan buku yang punya setidaknya 10 interaksi\n",
        "user_counts = ratings_clean['User-ID'].value_counts()\n",
        "book_counts = ratings_clean['ISBN'].value_counts()\n",
        "\n",
        "active_users = user_counts[user_counts >= 10].index\n",
        "popular_books = book_counts[book_counts >= 10].index\n",
        "\n",
        "ratings_filtered = ratings_clean[\n",
        "    (ratings_clean['User-ID'].isin(active_users)) &\n",
        "    (ratings_clean['ISBN'].isin(popular_books))\n",
        "]"
      ],
      "metadata": {
        "id": "wxugVBQjJLlw"
      },
      "execution_count": 20,
      "outputs": []
    },
    {
      "cell_type": "markdown",
      "source": [
        "## Menyusun Dataframe Final untuk Modeling"
      ],
      "metadata": {
        "id": "ubSliCbGJXO8"
      }
    },
    {
      "cell_type": "markdown",
      "source": [
        "- Menggabungkan ratings_filtered dengan books_clean berdasarkan ISBN.\n",
        "\n",
        "- Menghapus baris hasil merge yang tidak memiliki Book-Title.\n",
        "\n",
        "- Menampilkan ukuran data hasil merge sebelum dan sesudah dibersihkan."
      ],
      "metadata": {
        "id": "xO6t7fUEKTn-"
      }
    },
    {
      "cell_type": "code",
      "source": [
        "# Gabung ratings data dan book information\n",
        "all_book_info = pd.merge(ratings_filtered, books_clean, on='ISBN')\n",
        "\n",
        "all_book_info_clean = all_book_info.dropna(subset=['Book-Title'])\n",
        "\n",
        "print(f\"Original merged data shape: {all_book_info.shape}\")\n",
        "print(f\"Cleaned merged data shape: {all_book_info_clean.shape}\")"
      ],
      "metadata": {
        "colab": {
          "base_uri": "https://localhost:8080/"
        },
        "id": "3kRFc6PPJYV-",
        "outputId": "77a28b26-c38f-4838-8c32-cf6df2ff4b1d"
      },
      "execution_count": 21,
      "outputs": [
        {
          "output_type": "stream",
          "name": "stdout",
          "text": [
            "Original merged data shape: (427637, 10)\n",
            "Cleaned merged data shape: (427637, 10)\n"
          ]
        }
      ]
    },
    {
      "cell_type": "markdown",
      "source": [
        "## Menyiapkan Data untuk Model Collaborative Filtering"
      ],
      "metadata": {
        "id": "PNcwsn_6Jd-G"
      }
    },
    {
      "cell_type": "markdown",
      "source": [
        "- Menginstal library scikit-surprise untuk membangun sistem rekomendasi.\n",
        "\n",
        "- Mengimpor Dataset dan Reader dari Surprise.\n",
        "\n",
        "- Membentuk dataset Surprise dari ratings_filtered.\n",
        "\n",
        "- Verifikasi bahwa dataset berhasil dibuat.\n",
        "\n"
      ],
      "metadata": {
        "id": "w4G_XmkaKM2F"
      }
    },
    {
      "cell_type": "code",
      "source": [
        "!pip install scikit-surprise\n",
        "\n",
        "# Import surprise\n",
        "from surprise import Dataset, Reader\n",
        "\n",
        "# Format data untuk Surprise\n",
        "reader = Reader(rating_scale=(0, 10))\n",
        "data = Dataset.load_from_df(ratings_filtered[['User-ID', 'ISBN', 'Book-Rating']], reader)\n",
        "\n",
        "# Cek berhasil\n",
        "print(\"Surprise dataset loaded successfully.\")"
      ],
      "metadata": {
        "colab": {
          "base_uri": "https://localhost:8080/"
        },
        "id": "SDmR_me7Jged",
        "outputId": "e770ea12-e521-4cdf-c1d4-f48293ff9797"
      },
      "execution_count": 22,
      "outputs": [
        {
          "output_type": "stream",
          "name": "stdout",
          "text": [
            "Requirement already satisfied: scikit-surprise in /usr/local/lib/python3.11/dist-packages (1.1.4)\n",
            "Requirement already satisfied: joblib>=1.2.0 in /usr/local/lib/python3.11/dist-packages (from scikit-surprise) (1.5.0)\n",
            "Requirement already satisfied: numpy>=1.19.5 in /usr/local/lib/python3.11/dist-packages (from scikit-surprise) (1.23.5)\n",
            "Requirement already satisfied: scipy>=1.6.0 in /usr/local/lib/python3.11/dist-packages (from scikit-surprise) (1.15.3)\n",
            "Surprise dataset loaded successfully.\n"
          ]
        }
      ]
    },
    {
      "cell_type": "markdown",
      "source": [
        "# Model Development dengan Collaborative Filtering"
      ],
      "metadata": {
        "id": "SkEdr0vwDaZm"
      }
    },
    {
      "cell_type": "markdown",
      "source": [
        "- Mengimpor library yang dibutuhkan: pandas dan numpy untuk manipulasi data, TensorFlow untuk membangun model, matplotlib untuk visualisasi.\n",
        "\n",
        "- Mengecek versi TensorFlow dan NumPy untuk memastikan kompatibilitas."
      ],
      "metadata": {
        "id": "q7EnLbyEMGuM"
      }
    },
    {
      "cell_type": "code",
      "source": [
        "import pandas as pd\n",
        "import numpy as np\n",
        "import tensorflow as tf\n",
        "from tensorflow import keras\n",
        "from tensorflow.keras import layers\n",
        "import matplotlib.pyplot as plt\n",
        "\n",
        "print(\"TensorFlow version:\", tf.__version__)\n",
        "print(\"NumPy version:\", np.__version__)"
      ],
      "metadata": {
        "id": "boQeLX8aDV_J",
        "colab": {
          "base_uri": "https://localhost:8080/"
        },
        "outputId": "2c554578-021f-4546-ff34-569fcb5a4a0b"
      },
      "execution_count": 23,
      "outputs": [
        {
          "output_type": "stream",
          "name": "stdout",
          "text": [
            "TensorFlow version: 2.12.0\n",
            "NumPy version: 1.23.5\n"
          ]
        }
      ]
    },
    {
      "cell_type": "markdown",
      "source": [
        "## Data Preparation"
      ],
      "metadata": {
        "id": "jzH2QVHwg1hl"
      }
    },
    {
      "cell_type": "markdown",
      "source": [
        "- Menyalin dataset hasil filter.\n",
        "\n",
        "- Meng-encode kolom User-ID dan ISBN menjadi ID numerik agar bisa digunakan dalam layer embedding.\n",
        "\n",
        "- Menyimpan jumlah total user dan buku yang unik.\n",
        "\n",
        "- Mengonversi Book-Rating ke tipe float32 untuk kompatibilitas model.\n"
      ],
      "metadata": {
        "id": "ZKZwLU3NMRho"
      }
    },
    {
      "cell_type": "code",
      "source": [
        "# Ambil dataframe hasil filter\n",
        "df = ratings_filtered.copy()\n",
        "\n",
        "# Encode User-ID dan ISBN sebagai index numerik untuk embedding\n",
        "user_ids = df['User-ID'].unique().tolist()\n",
        "book_ids = df['ISBN'].unique().tolist()\n",
        "\n",
        "user2user_encoded = {x: i for i, x in enumerate(user_ids)}\n",
        "book2book_encoded = {x: i for i, x in enumerate(book_ids)}\n",
        "\n",
        "df['user'] = df['User-ID'].map(user2user_encoded)\n",
        "df['book'] = df['ISBN'].map(book2book_encoded)\n",
        "\n",
        "num_users = len(user2user_encoded)\n",
        "num_books = len(book2book_encoded)\n",
        "\n",
        "df['Book-Rating'] = df['Book-Rating'].astype(np.float32)"
      ],
      "metadata": {
        "id": "qzYiKFoLgzmc"
      },
      "execution_count": 24,
      "outputs": []
    },
    {
      "cell_type": "markdown",
      "source": [
        "## Membagi Data untuk Training dan Validasi"
      ],
      "metadata": {
        "id": "mje4S1iqg97W"
      }
    },
    {
      "cell_type": "markdown",
      "source": [
        "- Memisahkan data menjadi fitur (user, book) dan target (Book-Rating).\n",
        "\n",
        "- Membagi dataset menjadi training dan validation set sebesar 80:20."
      ],
      "metadata": {
        "id": "lXKwPlgyMWE6"
      }
    },
    {
      "cell_type": "code",
      "source": [
        "from sklearn.model_selection import train_test_split\n",
        "\n",
        "x = df[['user', 'book']].values\n",
        "y = df['Book-Rating'].values\n",
        "\n",
        "x_train, x_val, y_train, y_val = train_test_split(x, y, test_size=0.2, random_state=42)"
      ],
      "metadata": {
        "id": "9YOzo2gyg7mn"
      },
      "execution_count": 25,
      "outputs": []
    },
    {
      "cell_type": "markdown",
      "source": [
        "## Proses Training Model"
      ],
      "metadata": {
        "id": "SNd63v_RhEI7"
      }
    },
    {
      "cell_type": "markdown",
      "source": [
        "- Menormalisasi rating ke rentang 0–1 agar proses pelatihan model lebih stabil.\n",
        "\n",
        "- Menentukan parameter penting seperti jumlah user, buku, dan ukuran embedding."
      ],
      "metadata": {
        "id": "dr9vMtRaMZow"
      }
    },
    {
      "cell_type": "code",
      "source": [
        "import numpy as np\n",
        "import tensorflow as tf\n",
        "from tensorflow.keras.models import Model\n",
        "from tensorflow.keras.layers import Input, Embedding, Flatten, Concatenate, Dense, Dropout, BatchNormalization\n",
        "from tensorflow.keras.callbacks import EarlyStopping, ReduceLROnPlateau\n",
        "from tensorflow.keras.regularizers import l2\n",
        "from sklearn.preprocessing import MinMaxScaler\n",
        "\n",
        "# Normalisasi Target Rating\n",
        "scaler = MinMaxScaler(feature_range=(0, 1))\n",
        "y_train_scaled = scaler.fit_transform(y_train.reshape(-1, 1)).flatten()\n",
        "y_val_scaled = scaler.transform(y_val.reshape(-1, 1)).flatten()\n",
        "\n",
        "# Parameter Dasar\n",
        "num_users = len(user2user_encoded)\n",
        "num_books = len(book2book_encoded)\n",
        "embedding_size = 32\n",
        "reg_strength = 1e-6\n",
        "dropout_rate = 0.4"
      ],
      "metadata": {
        "id": "Bqg1_T1rMn3u"
      },
      "execution_count": 26,
      "outputs": []
    },
    {
      "cell_type": "markdown",
      "source": [
        "- Membangun input dan layer embedding untuk user dan buku, menggabungkan representasi user dan buku menjadi satu vektor.\n",
        "- Membangun hidden layer dengan dropout untuk regularisasi. Layer output menggunakan aktivasi linear karena target sudah dinormalisasi."
      ],
      "metadata": {
        "id": "JHYngHGQMysr"
      }
    },
    {
      "cell_type": "code",
      "source": [
        "# Input Layer\n",
        "user_input = Input(shape=(1,), name='user_input')\n",
        "book_input = Input(shape=(1,), name='book_input')\n",
        "\n",
        "# Embedding Layer\n",
        "user_embedding = Embedding(\n",
        "    input_dim=num_users,\n",
        "    output_dim=embedding_size,\n",
        "    name='user_embedding',\n",
        "    embeddings_regularizer=l2(reg_strength)\n",
        ")(user_input)\n",
        "\n",
        "book_embedding = Embedding(\n",
        "    input_dim=num_books,\n",
        "    output_dim=embedding_size,\n",
        "    name='book_embedding',\n",
        "    embeddings_regularizer=l2(reg_strength)\n",
        ")(book_input)\n",
        "\n",
        "# Flatten Embedding\n",
        "user_vec = Flatten()(user_embedding)\n",
        "book_vec = Flatten()(book_embedding)\n",
        "\n",
        "# Concatenate + Hidden Layers (64 → 32)\n",
        "concat = Concatenate()([user_vec, book_vec])\n",
        "x = BatchNormalization()(concat)\n",
        "x = Dense(64, activation='relu', kernel_regularizer=l2(reg_strength))(x)\n",
        "x = Dropout(dropout_rate)(x)\n",
        "x = BatchNormalization()(x)\n",
        "x = Dense(32, activation='relu', kernel_regularizer=l2(reg_strength))(x)\n",
        "x = Dropout(dropout_rate)(x)\n",
        "\n",
        "# Output Layer\n",
        "output = Dense(1, activation='linear')(x)\n",
        "\n",
        "# Compile Model\n",
        "model = Model(inputs=[user_input, book_input], outputs=output)\n",
        "model.compile(\n",
        "    optimizer=tf.keras.optimizers.Adam(learning_rate=1e-3, amsgrad=True),\n",
        "    loss='mse',\n",
        "    metrics=['mae']\n",
        ")\n",
        "\n",
        "# Callbacks\n",
        "early_stop = EarlyStopping(monitor='val_loss', patience=5, restore_best_weights=True)\n",
        "reduce_lr = ReduceLROnPlateau(monitor='val_loss', factor=0.5, patience=3, min_lr=1e-5)"
      ],
      "metadata": {
        "id": "UV1kQtPWMw_b"
      },
      "execution_count": 27,
      "outputs": []
    },
    {
      "cell_type": "markdown",
      "source": [
        "Melatih model menggunakan data training dan memantau performa pada validation set."
      ],
      "metadata": {
        "id": "ef-XvCJENElf"
      }
    },
    {
      "cell_type": "code",
      "source": [
        "# Training\n",
        "history = model.fit(\n",
        "    x=[x_train[:, 0], x_train[:, 1]],\n",
        "    y=y_train_scaled,\n",
        "    validation_data=([x_val[:, 0], x_val[:, 1]], y_val_scaled),\n",
        "    epochs=40,\n",
        "    batch_size=64,\n",
        "    callbacks=[early_stop, reduce_lr],\n",
        "    verbose=1\n",
        ")"
      ],
      "metadata": {
        "colab": {
          "base_uri": "https://localhost:8080/"
        },
        "id": "vBL05v2DNBaT",
        "outputId": "f4998b6d-ac4f-47f8-968b-e1bcf341f540"
      },
      "execution_count": 28,
      "outputs": [
        {
          "output_type": "stream",
          "name": "stdout",
          "text": [
            "Epoch 1/40\n",
            "5540/5540 [==============================] - 28s 5ms/step - loss: 0.1715 - mae: 0.3473 - val_loss: 0.1260 - val_mae: 0.3069 - lr: 0.0010\n",
            "Epoch 2/40\n",
            "5540/5540 [==============================] - 26s 5ms/step - loss: 0.1216 - mae: 0.2893 - val_loss: 0.1193 - val_mae: 0.2846 - lr: 0.0010\n",
            "Epoch 3/40\n",
            "5540/5540 [==============================] - 26s 5ms/step - loss: 0.1147 - mae: 0.2744 - val_loss: 0.1187 - val_mae: 0.2800 - lr: 0.0010\n",
            "Epoch 4/40\n",
            "5540/5540 [==============================] - 26s 5ms/step - loss: 0.1112 - mae: 0.2668 - val_loss: 0.1189 - val_mae: 0.2808 - lr: 0.0010\n",
            "Epoch 5/40\n",
            "5540/5540 [==============================] - 25s 5ms/step - loss: 0.1087 - mae: 0.2614 - val_loss: 0.1191 - val_mae: 0.2752 - lr: 0.0010\n",
            "Epoch 6/40\n",
            "5540/5540 [==============================] - 25s 5ms/step - loss: 0.1063 - mae: 0.2567 - val_loss: 0.1202 - val_mae: 0.2743 - lr: 0.0010\n",
            "Epoch 7/40\n",
            "5540/5540 [==============================] - 25s 5ms/step - loss: 0.1016 - mae: 0.2473 - val_loss: 0.1209 - val_mae: 0.2723 - lr: 5.0000e-04\n",
            "Epoch 8/40\n",
            "5540/5540 [==============================] - 25s 5ms/step - loss: 0.0996 - mae: 0.2428 - val_loss: 0.1215 - val_mae: 0.2707 - lr: 5.0000e-04\n"
          ]
        }
      ]
    },
    {
      "cell_type": "code",
      "source": [
        "# Evaluasi Akhir di Test Set\n",
        "test_loss, test_mae = model.evaluate(\n",
        "    x=[x_val[:, 0], x_val[:, 1]],\n",
        "    y=y_val_scaled,\n",
        "    verbose=1\n",
        ")\n",
        "print(f\"\\n Validation Loss: {test_loss:.4f}, Validation MAE: {test_mae:.4f}\")"
      ],
      "metadata": {
        "colab": {
          "base_uri": "https://localhost:8080/"
        },
        "id": "z8TdQishs0L9",
        "outputId": "d6688f76-0c01-491c-cf54-0effa5af9317"
      },
      "execution_count": 29,
      "outputs": [
        {
          "output_type": "stream",
          "name": "stdout",
          "text": [
            "2770/2770 [==============================] - 4s 1ms/step - loss: 0.1187 - mae: 0.2800\n",
            "\n",
            " Validation Loss: 0.1187, Validation MAE: 0.2800\n"
          ]
        }
      ]
    },
    {
      "cell_type": "markdown",
      "source": [
        "## Visualisasi Metrik"
      ],
      "metadata": {
        "id": "MTzvWHzohOY3"
      }
    },
    {
      "cell_type": "markdown",
      "source": [
        "Menampilkan grafik MSE loss selama proses training untuk memantau overfitting/underfitting.\n",
        "\n"
      ],
      "metadata": {
        "id": "8SrE5Yu-NHPt"
      }
    },
    {
      "cell_type": "code",
      "source": [
        "plt.plot(history.history['loss'], label='Train Loss')\n",
        "plt.plot(history.history['val_loss'], label='Val Loss')\n",
        "plt.title('Loss per Epoch')\n",
        "plt.xlabel('Epoch')\n",
        "plt.ylabel('MSE Loss')\n",
        "plt.legend()\n",
        "plt.show()"
      ],
      "metadata": {
        "colab": {
          "base_uri": "https://localhost:8080/",
          "height": 472
        },
        "id": "U_IUtGoshKFH",
        "outputId": "16459784-2a6d-4562-89ef-2574b1dff67b"
      },
      "execution_count": 30,
      "outputs": [
        {
          "output_type": "display_data",
          "data": {
            "text/plain": [
              "<Figure size 640x480 with 1 Axes>"
            ],
            "image/png": "[encoded data removed]"
          },
          "metadata": {}
        }
      ]
    },
    {
      "cell_type": "markdown",
      "source": [
        "## Diagnosa Overfitting / Underfitting\n",
        "\n",
        "Untuk mengevaluasi apakah model mengalami overfitting atau underfitting, dilakukan analisis terhadap nilai loss dan MAE pada data pelatihan dan validasi. Jika selisih nilai pada data validasi dan pelatihan cukup besar, itu bisa mengindikasikan overfitting.\n"
      ],
      "metadata": {
        "id": "zNrn9rAfSAsZ"
      }
    },
    {
      "cell_type": "code",
      "source": [
        "import matplotlib.pyplot as plt\n",
        "\n",
        "# Plot loss\n",
        "plt.figure(figsize=(12, 5))\n",
        "\n",
        "# Plot loss\n",
        "plt.subplot(1, 2, 1)\n",
        "plt.plot(history.history['loss'], label='Train Loss')\n",
        "plt.plot(history.history['val_loss'], label='Val Loss')\n",
        "plt.title('Loss per Epoch')\n",
        "plt.xlabel('Epoch')\n",
        "plt.ylabel('Loss')\n",
        "plt.legend()\n",
        "\n",
        "# Plot MAE\n",
        "plt.subplot(1, 2, 2)\n",
        "plt.plot(history.history['mae'], label='Train MAE')\n",
        "plt.plot(history.history['val_mae'], label='Val MAE')\n",
        "plt.title('MAE per Epoch')\n",
        "plt.xlabel('Epoch')\n",
        "plt.ylabel('MAE')\n",
        "plt.legend()\n",
        "\n",
        "plt.tight_layout()\n",
        "plt.show()"
      ],
      "metadata": {
        "colab": {
          "base_uri": "https://localhost:8080/",
          "height": 361
        },
        "id": "OzFtgf0qSFJz",
        "outputId": "78142fcc-9c76-4c6b-a39c-46c402cf4ec1"
      },
      "execution_count": 31,
      "outputs": [
        {
          "output_type": "display_data",
          "data": {
            "text/plain": [
              "<Figure size 1200x500 with 2 Axes>"
            ],
            "image/png": "[encoded data removed]"
          },
          "metadata": {}
        }
      ]
    },
    {
      "cell_type": "markdown",
      "source": [
        "## Evaluasi Model (Denormalisasi + RMSE/MAE Akhir)"
      ],
      "metadata": {
        "id": "46dSbwR4BLGr"
      }
    },
    {
      "cell_type": "markdown",
      "source": [
        "- Melakukan prediksi pada data validasi.\n",
        "\n",
        "- Mengembalikan hasil prediksi dan ground truth ke skala asli.\n",
        "\n",
        "- Menghitung metrik RMSE dan MAE sebagai evaluasi performa."
      ],
      "metadata": {
        "id": "9AGoeVfINKVx"
      }
    },
    {
      "cell_type": "code",
      "source": [
        "# Prediksi pada data validasi\n",
        "y_pred_scaled = model.predict([x_val[:, 0], x_val[:, 1]])\n",
        "y_pred = scaler.inverse_transform(y_pred_scaled)\n",
        "\n",
        "# Denormalisasi ground truth\n",
        "y_true = scaler.inverse_transform(y_val_scaled.reshape(-1, 1))\n",
        "\n",
        "# Hitung metrik evaluasi akhir\n",
        "from sklearn.metrics import mean_squared_error, mean_absolute_error\n",
        "\n",
        "rmse = np.sqrt(mean_squared_error(y_true, y_pred))\n",
        "mae = mean_absolute_error(y_true, y_pred)\n",
        "\n",
        "print(f\"Final RMSE: {rmse:.4f}\")\n",
        "print(f\"Final MAE: {mae:.4f}\")"
      ],
      "metadata": {
        "colab": {
          "base_uri": "https://localhost:8080/"
        },
        "id": "sHKY9rCNBG3-",
        "outputId": "67ca8b15-e0c2-4c12-90da-c76ad6b67cdc"
      },
      "execution_count": 32,
      "outputs": [
        {
          "output_type": "stream",
          "name": "stdout",
          "text": [
            "2770/2770 [==============================] - 3s 989us/step\n",
            "Final RMSE: 3.4196\n",
            "Final MAE: 2.7997\n"
          ]
        }
      ]
    },
    {
      "cell_type": "markdown",
      "source": [
        "## Load Data & Fungsi Pembalik Encoding"
      ],
      "metadata": {
        "id": "8wU0gHDoCGnV"
      }
    },
    {
      "cell_type": "markdown",
      "source": [
        "- Membuat dictionary pembalik agar bisa mengubah ID numerik kembali ke user ID asli dan ISBN.\n",
        "\n",
        "- Membuat mapping dari ISBN ke judul buku."
      ],
      "metadata": {
        "id": "tCm8-BApNPuK"
      }
    },
    {
      "cell_type": "code",
      "source": [
        "# Mapping pembalik untuk user dan buku\n",
        "user_encoded2user = {v: k for k, v in user2user_encoded.items()}\n",
        "book_encoded2book = {v: k for k, v in book2book_encoded.items()}\n",
        "\n",
        "# Untuk mencari judul buku dari ISBN\n",
        "isbn2title = dict(zip(books['ISBN'], books['Book-Title']))"
      ],
      "metadata": {
        "id": "faB0wuarB-7F"
      },
      "execution_count": 33,
      "outputs": []
    },
    {
      "cell_type": "markdown",
      "source": [
        "## Membuat Fungsi Rekomendasi Buku"
      ],
      "metadata": {
        "id": "dgRSGQnNiZty"
      }
    },
    {
      "cell_type": "markdown",
      "source": [
        "- Fungsi ini menerima user_id dan memprediksi rating untuk semua buku yang belum pernah dirating oleh user tersebut.\n",
        "\n",
        "- Hasil prediksi diurutkan dan ditampilkan sebagai rekomendasi teratas."
      ],
      "metadata": {
        "id": "VwvqgFiXNULJ"
      }
    },
    {
      "cell_type": "code",
      "source": [
        "def recommend_books_for_user(user_id, model, df, user2user_encoded, book_encoded2book, isbn2title, scaler, num_books, top_n=10):\n",
        "    # Pastikan user tersedia dalam data training\n",
        "    if user_id not in user2user_encoded:\n",
        "        print(\"User tidak ditemukan dalam data latih.\")\n",
        "        return []\n",
        "\n",
        "    # Encoding user ID\n",
        "    encoded_user_id = user2user_encoded[user_id]\n",
        "\n",
        "    # Buku-buku yang sudah diberi rating oleh user\n",
        "    book_ids_already_rated = df[df['user'] == encoded_user_id]['book'].tolist()\n",
        "\n",
        "    # Daftar kandidat buku yang belum dirating user\n",
        "    candidate_books = np.setdiff1d(np.arange(num_books), book_ids_already_rated)\n",
        "\n",
        "    # Input prediksi\n",
        "    user_input_array = np.array([encoded_user_id] * len(candidate_books))\n",
        "    book_input_array = candidate_books\n",
        "\n",
        "    # Prediksi rating berskala 0–1, lalu dikembalikan ke skala asli\n",
        "    pred_ratings_scaled = model.predict([user_input_array, book_input_array], verbose=0)\n",
        "    pred_ratings = scaler.inverse_transform(pred_ratings_scaled).flatten()\n",
        "\n",
        "    # Ambil Top-N buku dengan rating prediksi tertinggi, kecuali yang judulnya \"Unknown Title\"\n",
        "    top_indices = np.argsort(pred_ratings)[::-1]\n",
        "    recommendations = []\n",
        "\n",
        "    for idx in top_indices:\n",
        "        book_id = candidate_books[idx]\n",
        "        rating = pred_ratings[idx]\n",
        "        isbn = book_encoded2book[book_id]\n",
        "        title = isbn2title.get(isbn, \"Unknown Title\")\n",
        "\n",
        "        if title != \"Unknown Title\":\n",
        "            recommendations.append((isbn, title, round(rating, 2)))\n",
        "\n",
        "        if len(recommendations) == top_n:\n",
        "            break\n",
        "\n",
        "    return recommendations"
      ],
      "metadata": {
        "id": "8k9RifZLiXRN"
      },
      "execution_count": 34,
      "outputs": []
    },
    {
      "cell_type": "markdown",
      "source": [
        "## Contoh Penggunaan"
      ],
      "metadata": {
        "id": "0-apZD3fCK8y"
      }
    },
    {
      "cell_type": "markdown",
      "source": [
        "Memilih satu user dari data dan menghasilkan rekomendasi untuk user tersebut, mencetak hasilnya dalam bentuk daftar buku dan prediksi rating."
      ],
      "metadata": {
        "id": "h2Rz9hBSNX5Y"
      }
    },
    {
      "cell_type": "code",
      "source": [
        "# Mapping dari book encoded ke ISBN\n",
        "book_encoded2book = {i: isbn for i, isbn in enumerate(book_ids)}\n",
        "\n",
        "# Mapping dari ISBN ke judul buku\n",
        "isbn2title = books_clean.set_index('ISBN')['Book-Title'].to_dict()\n",
        "\n",
        "# Contoh rekomendasi untuk satu user\n",
        "user_id_example = 276798  # Bisa ganti dengan user valid dari dataset\n",
        "recs = recommend_books_for_user(\n",
        "    user_id=user_id_example,\n",
        "    model=model,\n",
        "    df=df,\n",
        "    user2user_encoded=user2user_encoded,\n",
        "    book_encoded2book=book_encoded2book,\n",
        "    isbn2title=isbn2title,\n",
        "    scaler=scaler,\n",
        "    num_books=num_books,\n",
        "    top_n=10\n",
        ")\n",
        "\n",
        "# Tampilkan hasil rekomendasi\n",
        "print(f\"Rekomendasi buku untuk User-ID {user_id_example}:\\n\")\n",
        "for i, (isbn, title, pred_rating) in enumerate(recs, 1):\n",
        "    print(f\"{i}. {title} (ISBN: {isbn}) — Prediksi Rating: {pred_rating}\")"
      ],
      "metadata": {
        "colab": {
          "base_uri": "https://localhost:8080/"
        },
        "id": "JMx6Goh-BxT9",
        "outputId": "202039ad-4492-4930-ab95-86e5ad910205"
      },
      "execution_count": 35,
      "outputs": [
        {
          "output_type": "stream",
          "name": "stdout",
          "text": [
            "Rekomendasi buku untuk User-ID 276798:\n",
            "\n",
            "1. Saving Grace (ISBN: 0345403339) — Prediksi Rating: 5.079999923706055\n",
            "2. Living Juicy: Daily Morsels for Your Creative Soul (ISBN: 0890877033) — Prediksi Rating: 4.840000152587891\n",
            "3. Odyssey: The Story of Odysseus (ISBN: 0451628055) — Prediksi Rating: 4.730000019073486\n",
            "4. FAT!SO? : Because You Don't Have to Apologize for Your Size (ISBN: 0898159954) — Prediksi Rating: 4.710000038146973\n",
            "5. Cows Of Our Planet (Far Side Series) (ISBN: 0836217012) — Prediksi Rating: 4.690000057220459\n",
            "6. Hotel of the Saints (ISBN: 0684843102) — Prediksi Rating: 4.630000114440918\n",
            "7. The Giving Tree (ISBN: 0060256656) — Prediksi Rating: 4.630000114440918\n",
            "8. Almost blue (Stile libero) (ISBN: 8806143042) — Prediksi Rating: 4.590000152587891\n",
            "9. I Just Forgot (A Little Critter Book) (ISBN: 0307119750) — Prediksi Rating: 4.570000171661377\n",
            "10. It's Not About the Bike: My Journey Back to Life (ISBN: 0399146113) — Prediksi Rating: 4.550000190734863\n"
          ]
        }
      ]
    },
    {
      "cell_type": "markdown",
      "source": [
        "## Kesimpulan & Insight Akhir"
      ],
      "metadata": {
        "id": "rte4Hw8LO-Ot"
      }
    },
    {
      "cell_type": "markdown",
      "source": [
        "1. **Sistem rekomendasi berhasil dibangun** menggunakan pendekatan collaborative filtering berbasis embedding neural network.\n",
        "2. **Model menunjukkan performa yang memadai**, dengan RMSE 3.4196 dan MAE 2.7997.\n",
        "3. **Rekomendasi yang dihasilkan dipersonalisasi** berdasarkan interaksi historis pengguna dan buku.\n",
        "4. **Sistem membantu pengguna menemukan bacaan baru** tanpa eksplorasi manual.\n",
        "5. **Problem Statement berhasil dijawab**:\n",
        "   - Sistem dapat memprediksi dan merekomendasikan buku yang relevan.\n",
        "   - Memberikan nilai tambah dalam menjelajahi buku baru.\n",
        "6. **Potensi pengembangan selanjutnya**:\n",
        "   - Integrasi metadata buku (judul, genre, penulis).\n",
        "   - Penerapan model hybrid (collaborative + content-based).\n",
        "   - Eksperimen dengan model advanced seperti Neural Collaborative Filtering (NCF)."
      ],
      "metadata": {
        "id": "ejDPWwpBPNuA"
      }
    }
  ]
}